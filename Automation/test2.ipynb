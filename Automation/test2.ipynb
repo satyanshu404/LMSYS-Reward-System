{
 "cells": [
  {
   "cell_type": "code",
   "execution_count": 1,
   "metadata": {},
   "outputs": [],
   "source": [
    "import pandas as pd\n",
    "\n",
    "df = pd.read_csv('../data/train.csv')\n",
    "df = df.head(5000)\n",
    "# assign \"No Value\" value to each response of each row\n",
    "df['response'] = 'No Value'\n",
    "# df.to_csv('../data/small-train.csv', index=False)\n"
   ]
  },
  {
   "cell_type": "code",
   "execution_count": null,
   "metadata": {},
   "outputs": [],
   "source": [
    "type(df.iloc[0].response)"
   ]
  },
  {
   "cell_type": "code",
   "execution_count": 4,
   "metadata": {},
   "outputs": [],
   "source": [
    "import json\n",
    "import re\n",
    "\n",
    "def clean_text(text: str) -> list[str]:\n",
    "    cleaned_text = re.sub(\n",
    "    r'[\\uD800-\\uDBFF][\\uDC00-\\uDFFF]',\n",
    "    lambda m: f'\\\\u{ord(m.group()):04x}',\n",
    "    text)\n",
    "    return json.loads(cleaned_text)\n",
    "\n",
    "def split_lists(row):\n",
    "    prompts = clean_text(row['prompt'])\n",
    "    response_as = clean_text(row['response_a'])\n",
    "    response_bs = clean_text(row['response_b'])\n",
    "    # response = clean_text(row['response'])\n",
    "    \n",
    "    new_rows = []\n",
    "    for prompt, response_a, response_b in zip(prompts, response_as, response_bs):\n",
    "        new_row = row.copy()\n",
    "        new_row['prompt'] = prompt\n",
    "        new_row['response_a'] = response_a\n",
    "        new_row['response_b'] = response_b\n",
    "        new_rows.append(new_row)\n",
    "    \n",
    "    return pd.DataFrame(new_rows)\n",
    "\n",
    "# Apply the function to each row and concatenate the results\n",
    "split_df = pd.concat([split_lists(row) for _, row in df.iterrows()], ignore_index=True)\n",
    "split_df.to_csv('../data/small-train-5000.csv', index=False)"
   ]
  },
  {
   "cell_type": "code",
   "execution_count": 31,
   "metadata": {},
   "outputs": [],
   "source": [
    "import pandas as pd\n",
    "df = pd.read_csv('../data/small-train-nemotron-4-340b_1.csv')"
   ]
  },
  {
   "cell_type": "code",
   "execution_count": 32,
   "metadata": {},
   "outputs": [],
   "source": [
    "error_list = ['API REQUEST ERROR', 'NETWORK ERROR DUE TO HIGH TRAFFIC']"
   ]
  },
  {
   "cell_type": "code",
   "execution_count": 33,
   "metadata": {},
   "outputs": [],
   "source": [
    "for index, row in df.iterrows():\n",
    "    if any(error in row['response'] for error in error_list):\n",
    "        df.at[index, 'response'] = 'No Value'\n",
    "        print(index)"
   ]
  },
  {
   "cell_type": "code",
   "execution_count": 30,
   "metadata": {},
   "outputs": [],
   "source": [
    "df.to_csv('../data/small-train-nemotron-4-340b_1.csv', index=False)"
   ]
  },
  {
   "cell_type": "code",
   "execution_count": null,
   "metadata": {},
   "outputs": [],
   "source": []
  }
 ],
 "metadata": {
  "kernelspec": {
   "display_name": "evabot",
   "language": "python",
   "name": "python3"
  },
  "language_info": {
   "codemirror_mode": {
    "name": "ipython",
    "version": 3
   },
   "file_extension": ".py",
   "mimetype": "text/x-python",
   "name": "python",
   "nbconvert_exporter": "python",
   "pygments_lexer": "ipython3",
   "version": "3.11.8"
  }
 },
 "nbformat": 4,
 "nbformat_minor": 2
}
