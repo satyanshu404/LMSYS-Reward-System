{
 "cells": [
  {
   "cell_type": "code",
   "execution_count": 1,
   "metadata": {},
   "outputs": [],
   "source": [
    "from selenium import webdriver\n",
    "from selenium.webdriver.common.by import By\n",
    "from selenium.webdriver.support.ui import WebDriverWait\n",
    "from selenium.webdriver.common.keys import Keys\n",
    "from selenium.webdriver.support.ui import Select\n",
    "from selenium.webdriver.support import expected_conditions as EC\n",
    "from selenium.webdriver.common.action_chains import ActionChains\n",
    "from selenium.common.exceptions import TimeoutException\n",
    "from selenium.common.exceptions import NoSuchElementException\n",
    "import undetected_chromedriver as uc\n",
    "from time import sleep\n",
    "from constant import *\n",
    "from bs4 import BeautifulSoup\n",
    "import pyperclip"
   ]
  },
  {
   "cell_type": "code",
   "execution_count": 2,
   "metadata": {},
   "outputs": [],
   "source": [
    "from selenium_stealth import stealth\n",
    "\n",
    "options = webdriver.ChromeOptions()\n",
    "# options.add_argument(\"start-maximized\")\n",
    "# options.add_argument(\"--headless\")\n",
    "# options.add_argument(\"--no-sandbox\")\n",
    "# options.add_argument(\"--disable-dev-shm-usage\")\n",
    "# options.add_argument(\"--remote-debugging-port=9222\")\n",
    "# options.add_experimental_option(\"excludeSwitches\", [\"enable-automation\"])\n",
    "# options.add_experimental_option('useAutomationExtension', False)\n",
    "# user_agent = 'Mozilla/5.0 (Windows NT 10.0; Win64; x64) AppleWebKit/537.36 (KHTML, like Gecko) Chrome/127.0.0.0 Safari/537.36'\n",
    "# options.add_argument(f'user-agent={user_agent}')\n",
    "# options.add_argument(r\"--user-data-dir=C:/Users\\sksci/AppData/Local/Google/Chrome/User Data\")\n",
    "# options.add_argument(r'--profile-directory=Profile 6')\n",
    "driver = uc.Chrome(options=options)\n",
    "\n",
    "# stealth(driver,\n",
    "#         languages=[\"en-US\", \"en\"],\n",
    "#         vendor=\"Google Inc.\",\n",
    "#         platform=\"Win32\",\n",
    "#         webgl_vendor=\"Intel Inc.\",\n",
    "#         renderer=\"Intel Iris OpenGL Engine\",\n",
    "#         fix_hairline=True,\n",
    "#         )\n",
    "# driver.get(ScraperConstants.URL)"
   ]
  },
  {
   "cell_type": "code",
   "execution_count": 3,
   "metadata": {},
   "outputs": [],
   "source": [
    "driver.get(ScraperConstants.URL)\n",
    "window_handles = driver.window_handles"
   ]
  },
  {
   "cell_type": "code",
   "execution_count": 4,
   "metadata": {},
   "outputs": [],
   "source": [
    "# import undetected_chromedriver as uc\n",
    "# from selenium import webdriver\n",
    "# # from selenium.webdriver.chrome.options import Options\n",
    "# chrome_options = webdriver.ChromeOptions()\n",
    "# # # Set up Chrome options\n",
    "# # options = Options()\n",
    "# # options.add_argument(\"--window-size=1920,1080\")\n",
    "# # options.add_argument(\"--allow-insecure-localhost\")\n",
    "# # # options.add_argument(\"--headless\")\n",
    "# # options.add_argument(\"--disable-gpu\")\n",
    "# # options.add_argument(\"--no-sandbox\")\n",
    "\n",
    "# # # Set up the WebDriver with the options\n",
    "# # driver = webdriver.Chrome(options=options)\n",
    "# driver = uc.Chrome(options=chrome_options)\n",
    "\n",
    "# # # Maximize the window\n",
    "# # driver.maximize_window()\n",
    "\n",
    "# # # Set the window size to 640x360\n",
    "# # driver.set_window_size(1, 1)\n",
    "\n",
    "\n",
    "\n",
    "# # # driver = uc.Chrome()\n",
    "# # # driver.get(ScraperConstants.URL)\n",
    "# # # window_handles = driver.window_handles\n"
   ]
  },
  {
   "cell_type": "code",
   "execution_count": 5,
   "metadata": {},
   "outputs": [],
   "source": [
    "# from selenium import webdriver\n",
    "# from selenium.webdriver.firefox.options import Options\n",
    "\n",
    "# fireFoxOptions = Options()  \n",
    "# # fireFoxOptions.add_argument(\"--headless\") \n",
    "# fireFoxOptions.add_argument(\"--window-size=1920,1080\")\n",
    "# fireFoxOptions.add_argument('--start-maximized')\n",
    "# fireFoxOptions.add_argument('--disable-gpu')\n",
    "# user_agent = 'Mozilla/5.0 (Windows NT 10.0; Win64; x64) AppleWebKit/537.36 (KHTML, like Gecko) Chrome/96.0.4664.110 Safari/537.36'\n",
    "# fireFoxOptions.add_argument(f'user-agent={user_agent}')\n",
    "# fireFoxOptions.add_argument('--no-sandbox')\n",
    "\n",
    "# driver =  webdriver.Firefox(options=fireFoxOptions)"
   ]
  },
  {
   "cell_type": "code",
   "execution_count": 6,
   "metadata": {},
   "outputs": [],
   "source": [
    "driver.get(ScraperConstants.URL)\n",
    "window_handles = driver.window_handles\n"
   ]
  },
  {
   "cell_type": "code",
   "execution_count": 7,
   "metadata": {},
   "outputs": [],
   "source": [
    "def go_to(locator:tuple, driver=driver, duration:int=60):\n",
    "    element = WebDriverWait(driver, duration).until(\n",
    "        EC.element_to_be_clickable(locator)\n",
    "    )\n",
    "    driver.execute_script(\"arguments[0].scrollIntoView(true);\", element)\n",
    "    sleep(1)\n",
    "    return element "
   ]
  },
  {
   "cell_type": "code",
   "execution_count": 8,
   "metadata": {},
   "outputs": [],
   "source": [
    "def accept_alert(driver=driver, duration=60):\n",
    "    try:\n",
    "        WebDriverWait(driver, duration).until(EC.alert_is_present())\n",
    "        alert = driver.switch_to.alert\n",
    "        alert.accept()\n",
    "    except Exception as e:\n",
    "        print(f\"No alert present: {e}\")\n",
    "\n",
    "accept_alert()"
   ]
  },
  {
   "cell_type": "code",
   "execution_count": 9,
   "metadata": {},
   "outputs": [
    {
     "data": {
      "text/plain": [
       "True"
      ]
     },
     "execution_count": 9,
     "metadata": {},
     "output_type": "execute_result"
    }
   ],
   "source": [
    "driver.get_screenshot_as_file(\"screenshot.png\")"
   ]
  },
  {
   "cell_type": "code",
   "execution_count": 10,
   "metadata": {},
   "outputs": [],
   "source": [
    "# Wait for the page to load\n",
    "try:\n",
    "    WebDriverWait(driver, 30).until(\n",
    "        EC.presence_of_element_located((By.XPATH, '//*[contains(text(), \"Arena (battle)\")]'))\n",
    "    )\n",
    "except TimeoutException:\n",
    "    print(\"TimeoutException: Couldn't load the page\")\n",
    "    driver.quit()"
   ]
  },
  {
   "cell_type": "code",
   "execution_count": 11,
   "metadata": {},
   "outputs": [],
   "source": [
    "sleep(2)"
   ]
  },
  {
   "cell_type": "code",
   "execution_count": 12,
   "metadata": {},
   "outputs": [],
   "source": [
    "go_to((By.ID, \"component-99-button\")).click()\n",
    "# driver.execute_script(\"window.scrollBy(0, 500);\")"
   ]
  },
  {
   "cell_type": "code",
   "execution_count": 13,
   "metadata": {},
   "outputs": [],
   "source": [
    "ele = go_to((By.ID, \"component-109\"))"
   ]
  },
  {
   "cell_type": "code",
   "execution_count": 14,
   "metadata": {},
   "outputs": [],
   "source": [
    "# ele = go_to((By.CLASS_NAME, \"error\"), duration=5)\n",
    "\n",
    "# if ele:\n",
    "#     print(\"Error\")\n",
    "#     driver.refresh()\n",
    "\n",
    "def is_element_present(by, value):\n",
    "    try:\n",
    "        driver.find_element(by, value)\n",
    "        return True\n",
    "    except NoSuchElementException:\n",
    "        return False\n",
    "    \n",
    "if is_element_present(By.CLASS_NAME, \"error\"):\n",
    "    print(\"Error\")\n",
    "    driver.refresh()"
   ]
  },
  {
   "cell_type": "code",
   "execution_count": 15,
   "metadata": {},
   "outputs": [],
   "source": [
    "listbox = go_to((By.ID, \"component-104\"))\n",
    "ActionChains(driver).move_to_element(listbox).click().send_keys(Keys.BACKSPACE*150).perform()\n",
    "ActionChains(driver).move_to_element(listbox).click().send_keys('nemotron-4-340b').perform()\n",
    "ActionChains(driver).move_to_element(listbox).click().send_keys(Keys.ENTER).perform()"
   ]
  },
  {
   "cell_type": "code",
   "execution_count": 16,
   "metadata": {},
   "outputs": [],
   "source": [
    "message = '''\n",
    "\n",
    "Act as a discriminator assistant to evaluate and distinguish between two responses for a given query based on the given label.\n",
    "You will be provided with a query, two responses and the correct label. Your task is to compare the responses based on various criteria and determine which one is superior in each aspect.\n",
    "However do not soley rely on the given label and also consider the responses in general.\n",
    "\n",
    "The criteria are:\n",
    "Relevance: Which response directly addresses the query better and provides more pertinent information?\n",
    "Accuracy: Which response contains more reliable and factual information based on credible sources?\n",
    "Clarity: Which response is more straightforward, easy to understand, and free of ambiguity?\n",
    "Completeness: Which response covers all aspects of the query more thoroughly?\n",
    "Conciseness: Which response is more succinct and to the point without unnecessary information?\n",
    "Logical Flow: Which response presents information in a more organized and coherent manner?\n",
    "Evidence & Examples: Which response provides stronger evidence and examples?\n",
    "Consistency: Which response maintains internal consistency without contradictions?\n",
    "Objectivity: Which response is more unbiased and neutral?\n",
    "Responsiveness: Which response better addresses specific details and aspects of the query?\n",
    "\n",
    "For each criterion, assign one of the following ratings:\n",
    "A: Response A is superior\n",
    "B: Response B is superior\n",
    "AB: Both responses are equally optimal\n",
    "NA: Neither response is satisfactory\n",
    "\n",
    "Provide output as a comma-separated list of ratings, corresponding to the order of criteria listed above.\n",
    "For example:\n",
    "Output: A,A,NA,AB,B,B,A,A,AB,B\n",
    "\n",
    "###IMPORTANT NOTES:\n",
    "- Do not include any explanations or additional text. Simply provide the comma seperated ratings.\n",
    "\n",
    "###Task:\n",
    "Query: write five original jokes about Docker\n",
    "Resonse A: 1. Why did the Docker container get kicked out of the bar?\n",
    "Because it couldn't handle its volumes.\n",
    "2. Why did the Docker image refuse to run?\n",
    "Because it had a bad case of the \"hangups\".\n",
    "3. How many Docker engineers does it take to change a lightbulb?\n",
    "Just one, but they'll need to create a container, run it, and then map the port to the lightbulb.\n",
    "4. What do you call a group of Docker containers working together?\n",
    "A pod of course!\n",
    "5. Why did the Docker container cross the road?\n",
    "To get to the Kubernetes cluster on the other side.\n",
    "Response B: 1. Why did the Docker container go to therapy? Because it had too many \"container\" issues!\n",
    "2. Why did the Docker container become a life coach? Because it was great at helping people find their \"container\" purpose!\n",
    "3. Why did the Docker container apply to be a bouncer? To make sure everyone was in their \"container\" element!\n",
    "4. What did the Docker container say when it won an award? \"I can't contain my excitement!\"\n",
    "5. Why did the Docker container run for mayor? To make the city a better \"container\"-ment!\n",
    "Correct Label: NA\n",
    "Output:\n",
    "'''"
   ]
  },
  {
   "cell_type": "code",
   "execution_count": 17,
   "metadata": {},
   "outputs": [],
   "source": [
    "# message = message.replace(\"\\n\", \"\\\\n\")"
   ]
  },
  {
   "cell_type": "code",
   "execution_count": 18,
   "metadata": {},
   "outputs": [],
   "source": [
    "pyperclip.copy(message)"
   ]
  },
  {
   "cell_type": "code",
   "execution_count": 19,
   "metadata": {},
   "outputs": [
    {
     "name": "stdout",
     "output_type": "stream",
     "text": [
      "\n",
      "\n",
      "Act as a discriminator assistant to evaluate and distinguish between two responses for a given query based on the given label.\n",
      "You will be provided with a query, two responses and the correct label. Your task is to compare the responses based on various criteria and determine which one is superior in each aspect.\n",
      "However do not soley rely on the given label and also consider the responses in general.\n",
      "\n",
      "The criteria are:\n",
      "Relevance: Which response directly addresses the query better and provides more pertinent information?\n",
      "Accuracy: Which response contains more reliable and factual information based on credible sources?\n",
      "Clarity: Which response is more straightforward, easy to understand, and free of ambiguity?\n",
      "Completeness: Which response covers all aspects of the query more thoroughly?\n",
      "Conciseness: Which response is more succinct and to the point without unnecessary information?\n",
      "Logical Flow: Which response presents information in a more organized and coherent manner?\n",
      "Evidence & Examples: Which response provides stronger evidence and examples?\n",
      "Consistency: Which response maintains internal consistency without contradictions?\n",
      "Objectivity: Which response is more unbiased and neutral?\n",
      "Responsiveness: Which response better addresses specific details and aspects of the query?\n",
      "\n",
      "For each criterion, assign one of the following ratings:\n",
      "A: Response A is superior\n",
      "B: Response B is superior\n",
      "AB: Both responses are equally optimal\n",
      "NA: Neither response is satisfactory\n",
      "\n",
      "Provide output as a comma-separated list of ratings, corresponding to the order of criteria listed above.\n",
      "For example:\n",
      "Output: A,A,NA,AB,B,B,A,A,AB,B\n",
      "\n",
      "###IMPORTANT NOTES:\n",
      "- Do not include any explanations or additional text. Simply provide the comma seperated ratings.\n",
      "\n",
      "###Task:\n",
      "Query: write five original jokes about Docker\n",
      "Resonse A: 1. Why did the Docker container get kicked out of the bar?\n",
      "Because it couldn't handle its volumes.\n",
      "2. Why did the Docker image refuse to run?\n",
      "Because it had a bad case of the \"hangups\".\n",
      "3. How many Docker engineers does it take to change a lightbulb?\n",
      "Just one, but they'll need to create a container, run it, and then map the port to the lightbulb.\n",
      "4. What do you call a group of Docker containers working together?\n",
      "A pod of course!\n",
      "5. Why did the Docker container cross the road?\n",
      "To get to the Kubernetes cluster on the other side.\n",
      "Response B: 1. Why did the Docker container go to therapy? Because it had too many \"container\" issues!\n",
      "2. Why did the Docker container become a life coach? Because it was great at helping people find their \"container\" purpose!\n",
      "3. Why did the Docker container apply to be a bouncer? To make sure everyone was in their \"container\" element!\n",
      "4. What did the Docker container say when it won an award? \"I can't contain my excitement!\"\n",
      "5. Why did the Docker container run for mayor? To make the city a better \"container\"-ment!\n",
      "Correct Label: NA\n",
      "Output:\n",
      "\n"
     ]
    }
   ],
   "source": [
    "print(message)"
   ]
  },
  {
   "cell_type": "code",
   "execution_count": 20,
   "metadata": {},
   "outputs": [],
   "source": [
    "textarea = go_to((By.ID, \"component-109\"))\n",
    "actions = ActionChains(driver).move_to_element(textarea).click()\n",
    "# .send_keys(message).perform()\n",
    "actions.key_down(Keys.CONTROL).send_keys('v').key_up(Keys.CONTROL).perform()"
   ]
  },
  {
   "cell_type": "code",
   "execution_count": 21,
   "metadata": {},
   "outputs": [],
   "source": [
    "driver.execute_script(\"arguments[0].dispatchEvent(new Event('input'));\", textarea)"
   ]
  },
  {
   "cell_type": "code",
   "execution_count": 22,
   "metadata": {},
   "outputs": [],
   "source": [
    "ActionChains(driver).move_to_element(textarea).click().send_keys(Keys.ENTER).perform()"
   ]
  },
  {
   "cell_type": "code",
   "execution_count": 23,
   "metadata": {},
   "outputs": [],
   "source": [
    "# go_to((By.ID, \"component-110\")).click()\n",
    "# import pyperclip\n",
    "# pyperclip.copy('The text to be copied to the clipboard.')\n",
    "# spam = pyperclip.paste()"
   ]
  },
  {
   "cell_type": "code",
   "execution_count": 24,
   "metadata": {},
   "outputs": [
    {
     "data": {
      "text/plain": [
       "<undetected_chromedriver.webelement.WebElement (session=\"051dc11ff1260ef0d418c31b9d40bba5\", element=\"f.0C9B4B6FBC5FB6D2349981E926942F3E.d.F4E7C7D3267DCD132BA93B415805AC78.e.92\")>"
      ]
     },
     "execution_count": 24,
     "metadata": {},
     "output_type": "execute_result"
    }
   ],
   "source": [
    "# simulate_user_activity()\n",
    "sleep(1)\n",
    "element_present = EC.presence_of_element_located((By.CLASS_NAME, 'progress-text'))\n",
    "WebDriverWait(driver, 20).until(element_present)"
   ]
  },
  {
   "cell_type": "code",
   "execution_count": 25,
   "metadata": {},
   "outputs": [
    {
     "data": {
      "text/plain": [
       "<undetected_chromedriver.webelement.WebElement (session=\"051dc11ff1260ef0d418c31b9d40bba5\", element=\"f.0C9B4B6FBC5FB6D2349981E926942F3E.d.F4E7C7D3267DCD132BA93B415805AC78.e.83\")>"
      ]
     },
     "execution_count": 25,
     "metadata": {},
     "output_type": "execute_result"
    }
   ],
   "source": [
    "WebDriverWait(driver, 10000).until(EC.element_to_be_clickable((By.ID, 'component-118')))"
   ]
  },
  {
   "cell_type": "code",
   "execution_count": 26,
   "metadata": {},
   "outputs": [],
   "source": [
    "# go_to((By.CSS_SELECTOR, \".svelte-1s78gfg.latest\"))\n",
    "# page_source = driver.page_source\n",
    "\n",
    "# # Parse the page source with BeautifulSoup\n",
    "# soup = BeautifulSoup(page_source, 'html.parser')"
   ]
  },
  {
   "cell_type": "code",
   "execution_count": 27,
   "metadata": {},
   "outputs": [
    {
     "data": {
      "text/plain": [
       "'NA,NA,A,A,A,A,A,A,A,A'"
      ]
     },
     "execution_count": 27,
     "metadata": {},
     "output_type": "execute_result"
    }
   ],
   "source": [
    "# go_to((By.CSS_SELECTOR, \".svelte-1s78gfg.latest\"))\n",
    "elements = driver.find_elements(By.XPATH, '//*[@data-testid=\"bot\"]')\n",
    "elements[-1].click()\n",
    "res = go_to((By.XPATH, '//*[@data-testid=\"bot\"]')).text\n",
    "WebDriverWait(driver, 10000).until(EC.element_to_be_clickable((By.ID, 'component-118'))).click()\n",
    "sleep(1)\n",
    "res"
   ]
  },
  {
   "cell_type": "code",
   "execution_count": 28,
   "metadata": {},
   "outputs": [],
   "source": [
    "# text = soup.text.split(\"Scroll down and start chatting\")[-1]"
   ]
  },
  {
   "cell_type": "code",
   "execution_count": 29,
   "metadata": {},
   "outputs": [],
   "source": [
    "# # text = text.split(\"Textbox\")[0]\n",
    "# # story_button = soup.find('button', {'data-testid': 'bot'})\n",
    "# # story_text = story_button['aria-label'].split(': ', 1)[1]  # Split to remove the 'bot's message: ' part\n",
    "\n",
    "# # print(story_text)\n",
    "# bot_messages = soup.find_all('class', 'svelte-1s78gfg latest')\n",
    "\n",
    "# # Get the last bot message\n",
    "# if bot_messages:\n",
    "#     last_bot_message = bot_messages[-1]\n",
    "#     story_text = last_bot_message['aria-label'].split(': ', 1)[1]  # Split to remove the 'bot's message: ' part\n",
    "#     print(story_text)"
   ]
  },
  {
   "cell_type": "code",
   "execution_count": null,
   "metadata": {},
   "outputs": [],
   "source": []
  },
  {
   "cell_type": "code",
   "execution_count": 30,
   "metadata": {},
   "outputs": [],
   "source": [
    "\n",
    "# # print(text.split(\"Output:\")[-1].replace(\"\\\\n\", \" \").strip())\n",
    "# divs = soup.find_all('button', class_='svelte-1s78gfg latest')\n",
    "\n",
    "# # Extract the text\n",
    "# if divs:\n",
    "#     t = [span.get_text(strip=True) for span in divs][-1]\n",
    "#     print(t)\n",
    "# else:\n",
    "#     print(\"Text not found\")"
   ]
  },
  {
   "cell_type": "code",
   "execution_count": 31,
   "metadata": {},
   "outputs": [],
   "source": [
    "message = '''\n",
    "\n",
    "Act as a discriminator assistant to evaluate and distinguish between two responses for a given query based on the given label.\n",
    "You will be provided with a query, two responses and the correct label. Your task is to compare the responses based on various criteria and determine which one is superior in each aspect.\n",
    "However do not soley rely on the given label and also consider the responses in general.\n",
    "\n",
    "The criteria are:\n",
    "Relevance: Which response directly addresses the query better and provides more pertinent information?\n",
    "Accuracy: Which response contains more reliable and factual information based on credible sources?\n",
    "Clarity: Which response is more straightforward, easy to understand, and free of ambiguity?\n",
    "Completeness: Which response covers all aspects of the query more thoroughly?\n",
    "Conciseness: Which response is more succinct and to the point without unnecessary information?\n",
    "Logical Flow: Which response presents information in a more organized and coherent manner?\n",
    "Evidence & Examples: Which response provides stronger evidence and examples?\n",
    "Consistency: Which response maintains internal consistency without contradictions?\n",
    "Objectivity: Which response is more unbiased and neutral?\n",
    "Responsiveness: Which response better addresses specific details and aspects of the query?\n",
    "\n",
    "For each criterion, assign one of the following ratings:\n",
    "A: Response A is superior\n",
    "B: Response B is superior\n",
    "AB: Both responses are equally optimal\n",
    "NA: Neither response is satisfactory\n",
    "\n",
    "Provide output as a comma-separated list of ratings, corresponding to the order of criteria listed above.\n",
    "For example:\n",
    "Output: A,A,NA,AB,B,B,A,A,AB,B\n",
    "\n",
    "###IMPORTANT NOTES:\n",
    "- Do not include any explanations or additional text. Simply provide the comma seperated ratings.\n",
    "\n",
    "###Task:\n",
    "Query: A person 'x' gives an apple to a person 'y'. 'y' gives the apple to 'z'. Then 'z' eats half of the apple and pass it to 'x'. In return x gives a banana to z. Then z passes the banana to y who then eats half of the banana. X eats the apple. Please tell who has eaten what?\n",
    "Resonse A: The order of eating the apple and banana can be arranged in different ways, but here is one possible order:\n",
    "\n",
    "1. Person 'x' gives an apple to person 'y'.\n",
    "2. Person 'y' gives the apple to person 'z'.\n",
    "3. Person 'z' eats half of the apple and passes it to person 'x'.\n",
    "4. Person 'x' gives a banana to person 'z'.\n",
    "5. Person 'z' passes the banana to person 'y'.\n",
    "6. Person 'y' eats half of the banana.\n",
    "7. Person 'x' eats the apple.\n",
    "\n",
    "So in this scenario, person 'z' has eaten half of the apple, person 'x' has eaten the other half of the apple, and person 'y' has eaten half of the banana.\n",
    "Response B: Person 'x' has eaten the apple, then person 'z' has eaten half of the apple and given it back to 'x', who has then eaten the entire apple. Person 'y' has eaten half of the banana, and person 'z' has eaten the other half of the banana.\n",
    "Correct Label: A\n",
    "Output:\n",
    "\n",
    "'''"
   ]
  },
  {
   "cell_type": "code",
   "execution_count": 32,
   "metadata": {},
   "outputs": [],
   "source": [
    "pyperclip.copy(message)"
   ]
  },
  {
   "cell_type": "code",
   "execution_count": 33,
   "metadata": {},
   "outputs": [],
   "source": [
    "textarea = go_to((By.ID, \"component-109\"))\n",
    "actions = ActionChains(driver).move_to_element(textarea).click()\n",
    "# .send_keys(message).perform()\n",
    "actions.key_down(Keys.CONTROL).send_keys('v').key_up(Keys.CONTROL).perform()"
   ]
  },
  {
   "cell_type": "code",
   "execution_count": 34,
   "metadata": {},
   "outputs": [],
   "source": [
    "driver.execute_script(\"arguments[0].dispatchEvent(new Event('input'));\", textarea)"
   ]
  },
  {
   "cell_type": "code",
   "execution_count": 35,
   "metadata": {},
   "outputs": [],
   "source": [
    "ActionChains(driver).move_to_element(textarea).click().send_keys(Keys.ENTER).perform()"
   ]
  },
  {
   "cell_type": "code",
   "execution_count": 36,
   "metadata": {},
   "outputs": [
    {
     "data": {
      "text/plain": [
       "<undetected_chromedriver.webelement.WebElement (session=\"051dc11ff1260ef0d418c31b9d40bba5\", element=\"f.0C9B4B6FBC5FB6D2349981E926942F3E.d.F4E7C7D3267DCD132BA93B415805AC78.e.95\")>"
      ]
     },
     "execution_count": 36,
     "metadata": {},
     "output_type": "execute_result"
    }
   ],
   "source": [
    "sleep(0.5)\n",
    "element_present = EC.presence_of_element_located((By.CLASS_NAME, 'progress-text'))\n",
    "WebDriverWait(driver, 20).until(element_present)"
   ]
  },
  {
   "cell_type": "code",
   "execution_count": 37,
   "metadata": {},
   "outputs": [
    {
     "data": {
      "text/plain": [
       "<undetected_chromedriver.webelement.WebElement (session=\"051dc11ff1260ef0d418c31b9d40bba5\", element=\"f.0C9B4B6FBC5FB6D2349981E926942F3E.d.F4E7C7D3267DCD132BA93B415805AC78.e.83\")>"
      ]
     },
     "execution_count": 37,
     "metadata": {},
     "output_type": "execute_result"
    }
   ],
   "source": [
    "sleep(0.5)\n",
    "WebDriverWait(driver, 10000).until(EC.element_to_be_clickable((By.ID, 'component-118')))"
   ]
  },
  {
   "cell_type": "code",
   "execution_count": 38,
   "metadata": {},
   "outputs": [
    {
     "data": {
      "text/plain": [
       "'A,NA,A,A,A,A,AB,A,A,A'"
      ]
     },
     "execution_count": 38,
     "metadata": {},
     "output_type": "execute_result"
    }
   ],
   "source": [
    "# go_to((By.CSS_SELECTOR, \".svelte-1s78gfg.latest\"))\n",
    "elements = driver.find_elements(By.XPATH, '//*[@data-testid=\"bot\"]')\n",
    "elements[-1].click()\n",
    "# go_to((By.XPATH, '//*[@data-testid=\"bot\"]')).click()\n",
    "res = go_to((By.XPATH, '//*[@data-testid=\"bot\"]')).text\n",
    "# page_source = driver.page_source\n",
    "\n",
    "# # Parse the page source with BeautifulSoup\n",
    "# soup = BeautifulSoup(page_source, 'html.parser')\n",
    "res"
   ]
  },
  {
   "cell_type": "code",
   "execution_count": 39,
   "metadata": {},
   "outputs": [],
   "source": [
    "# # text = text.split(\"Textbox\")[0]\n",
    "# # story_button = soup.find('button', {'data-testid': 'bot'})\n",
    "# # story_text = story_button['aria-label'].split(': ', 1)[1]  # Split to remove the 'bot's message: ' part\n",
    "\n",
    "# # print(story_text)\n",
    "# bot_messages = soup.find_all('class', 'svelte-1s78gfg latest')\n",
    "\n",
    "# # Get the last bot message\n",
    "# if bot_messages:\n",
    "#     last_bot_message = bot_messages[-1]\n",
    "#     story_text = last_bot_message['aria-label'].split(': ', 1)[1]  # Split to remove the 'bot's message: ' part\n",
    "#     print(story_text)"
   ]
  },
  {
   "cell_type": "code",
   "execution_count": 40,
   "metadata": {},
   "outputs": [],
   "source": [
    "\n",
    "# # print(text.split(\"Output:\")[-1].replace(\"\\\\n\", \" \").strip())\n",
    "# divs = soup.find_all('button', class_='svelte-1s78gfg latest')\n",
    "\n",
    "# # Extract the text\n",
    "# if divs:\n",
    "#     t = [span.get_text(strip=True) for span in divs][-1]\n",
    "#     print(t)\n",
    "# else:\n",
    "#     print(\"Text not found\")"
   ]
  },
  {
   "cell_type": "code",
   "execution_count": 41,
   "metadata": {},
   "outputs": [],
   "source": [
    "# dict_ = eval(text.split(\"Output:\")[-1].replace(\"\\\\n\", \" \").strip())"
   ]
  },
  {
   "cell_type": "code",
   "execution_count": 42,
   "metadata": {},
   "outputs": [],
   "source": [
    "# dict_"
   ]
  },
  {
   "cell_type": "code",
   "execution_count": null,
   "metadata": {},
   "outputs": [],
   "source": []
  },
  {
   "cell_type": "code",
   "execution_count": null,
   "metadata": {},
   "outputs": [],
   "source": []
  },
  {
   "cell_type": "code",
   "execution_count": 43,
   "metadata": {},
   "outputs": [],
   "source": [
    "# {'relevance': {'response': 'A',\n",
    "#   'reason': 'Response A is more relevant to the query as it provides a detailed exploration of the moral implications of having a certain percentage of females in managerial positions. It discusses various arguments for and against this practice, offering a comprehensive and nuanced perspective. In contrast, Response B offers a brief and general overview of the topic without delving into the specific moral considerations requested in the query.'},\n",
    "#  'accuracy': {'response': 'A',\n",
    "#   'reason': 'Response A is more accurate as it presents a balanced view of the topic, discussing both the advantages and disadvantages of gender quotas in managerial positions. It also acknowledges the subjective nature of morality. Response B, while not inaccurate, is less detailed and does not provide as much factual information or context as Response A.'},\n",
    "#  'clarity': {'response': 'B',\n",
    "#   'reason': \"Response B is clearer as it presents its points in a more straightforward and concise manner. Response A, while comprehensive, may be overwhelming for some readers due to its length and depth. Response B's simplicity makes it easier to understand, especially for those unfamiliar with the topic.\"},\n",
    "#  'completeness': {'response': 'A',\n",
    "#   'reason': 'Response A is more comprehensive as it thoroughly explores the moral implications of gender quotas in managerial positions. It discusses various arguments for and against this practice, offering a well-rounded perspective. Response B, while clear and accurate, does not provide as much detail or context as Response A.'},\n",
    "#  'conciseness': {'response': 'B',\n",
    "#   'reason': 'Response B is more concise as it presents its points in a brief and to-the-point manner. Response A, while comprehensive, is significantly longer and may contain more information than necessary for some readers.'},\n",
    "#  'logical_flow': {'response': 'A',\n",
    "#   'reason': 'Response A has a better logical flow as it presents its arguments in a structured and organized manner. It introduces the topic, discusses arguments for and against gender quotas, and concludes by acknowledging the subjective nature of morality. Response B, while clear, does not have as clear a structure or flow as Response A.'},\n",
    "#  'evidence_examples': {'response': 'A',\n",
    "#   'reason': 'Response A provides stronger evidence and examples as it discusses specific arguments for and against gender quotas in managerial positions. It offers detailed explanations and examples to support its points. Response B, while accurate, does not provide as much evidence or examples as Response A.'},\n",
    "#  'consistency': {'response': 'A',\n",
    "#   'reason': 'Both responses are consistent, but Response A is more consistent in its depth and detail throughout the response. Response B, while consistent, is less detailed and comprehensive than Response A.'},\n",
    "#  'objectivity': {'response': 'A',\n",
    "#   'reason': 'Both responses are objective, but Response A is more objective as it presents a balanced view of the topic, discussing both the advantages and disadvantages of gender quotas in managerial positions. Response B, while objective, is less detailed and comprehensive than Response A.'},\n",
    "#  'responsiveness': {'response': 'A',\n",
    "#   'reason': 'Response A is more responsive to the nuances and sub-questions within the query as it addresses the specific moral considerations of gender quotas in managerial positions. It also acknowledges the subjective nature of morality. Response B, while responsive, does not address the nuances of the query as thoroughly as Response A.'}}"
   ]
  },
  {
   "cell_type": "code",
   "execution_count": 44,
   "metadata": {},
   "outputs": [],
   "source": [
    "# import threading\n",
    "# import time\n",
    "\n",
    "# def target_function():\n",
    "#     try:\n",
    "#         # Place your script code here\n",
    "#         print(\"Script started\")\n",
    "#         time.sleep(10)  # Simulate a long-running process\n",
    "#         print(\"Script finished\")\n",
    "#         return \n",
    "#     except Exception as e:\n",
    "#         print(f\"An error occurred: {e}\")\n",
    "\n",
    "# def run_with_timeout(func, timeout):\n",
    "#     thread = threading.Thread(target=func)\n",
    "#     thread.start()\n",
    "#     thread.join(timeout)\n",
    "#     if thread.is_alive():\n",
    "#         print(\"Script exceeded the time limit and will be terminated\")\n",
    "#         return False\n",
    "#     return True\n",
    "\n",
    "# # Set the timeout duration (in seconds)\n",
    "# timeout_duration = 5\n",
    "\n",
    "# # Run the script with the specified timeout\n",
    "# if run_with_timeout(target_function, timeout_duration):\n",
    "#     print(\"Script completed within the time limit\")\n",
    "# else:\n",
    "#     print(\"Script did not complete within the time limit\")\n"
   ]
  },
  {
   "cell_type": "code",
   "execution_count": 45,
   "metadata": {},
   "outputs": [],
   "source": [
    "# from selenium import webdriver\n",
    "# import threading\n",
    "# import time\n",
    "\n",
    "# # Function to close the driver after a certain time\n",
    "# def close_driver(driver, timeout):\n",
    "#     time.sleep(timeout)\n",
    "#     if driver:\n",
    "#         driver.quit()\n",
    "#         print(\"Driver closed after timeout.\")\n",
    "\n",
    "# # Your main Selenium script\n",
    "# def main():\n",
    "#     # Initialize the WebDriver (e.g., Chrome)\n",
    "#     driver = webdriver.Chrome()\n",
    "\n",
    "#     # Set the timeout in seconds\n",
    "#     timeout = 5  # e.g., 60 seconds\n",
    "\n",
    "#     # Start the timer to close the driver\n",
    "#     timer = threading.Thread(target=close_driver, args=(driver, timeout))\n",
    "#     timer.start()\n",
    "\n",
    "#     try:\n",
    "#         # Your Selenium tasks go here\n",
    "#         driver.get('http://www.google.com')\n",
    "#         # Add more Selenium actions as needed\n",
    "#         print(\"Tasks completed successfully.\")\n",
    "#         for i in range(10):\n",
    "#             print(i)\n",
    "#             time.sleep(1)\n",
    "\n",
    "#     except Exception as e:\n",
    "#         print(f\"An error occurred: {e}\")\n",
    "\n",
    "#     finally:\n",
    "#         # Ensure the driver is closed if the tasks finish before the timeout\n",
    "#         if driver:\n",
    "#             driver.quit()\n",
    "#             print(\"Driver closed after completing tasks.\")\n",
    "#         # Cancel the timer if the tasks complete in time\n",
    "#         timer.join(timeout=0)\n",
    "\n",
    "# main()"
   ]
  },
  {
   "cell_type": "code",
   "execution_count": 46,
   "metadata": {},
   "outputs": [],
   "source": [
    "# import threading\n",
    "# import logging\n",
    "# from time import sleep\n",
    "# from selenium import webdriver\n",
    "# from selenium.webdriver.common.by import By\n",
    "\n",
    "# class Scraper:\n",
    "#     def __init__(self, driver_path):\n",
    "#         self.driver_path = driver_path\n",
    "#         self.driver = None\n",
    "\n",
    "#     def initialize(self):\n",
    "#         self.driver = webdriver.Chrome(executable_path=self.driver_path)\n",
    "\n",
    "#     def cleanup(self):\n",
    "#         if self.driver:\n",
    "#             self.driver.quit()\n",
    "\n",
    "#     def check_page(self):\n",
    "#         # Dummy implementation\n",
    "#         return True\n",
    "\n",
    "#     def go_to_arena(self):\n",
    "#         # Dummy implementation\n",
    "#         pass\n",
    "\n",
    "#     def is_element_present(self, locator):\n",
    "#         # Dummy implementation\n",
    "#         return False\n",
    "\n",
    "#     def select_model(self):\n",
    "#         # Dummy implementation\n",
    "#         pass\n",
    "\n",
    "#     def genreate_response(self, message):\n",
    "#         # Dummy implementation\n",
    "#         pass\n",
    "\n",
    "#     def scrape_data(self, splitter_text):\n",
    "#         # Dummy implementation\n",
    "#         return [\"data1\", \"data2\"]\n",
    "\n",
    "#     def run(self, message: str, splitter_text: str | None = None, result_container: dict = None):\n",
    "#         '''Scrape the data from the website'''\n",
    "\n",
    "#         self.initialize()\n",
    "\n",
    "#         # check if the page is loaded successfully\n",
    "#         if not self.check_page():\n",
    "#             self.cleanup()\n",
    "#             result_container['result'] = None\n",
    "#             return\n",
    "\n",
    "#         self.go_to_arena()\n",
    "#         sleep(1)\n",
    "\n",
    "#         # check for timeout error\n",
    "#         if self.is_element_present((By.CLASS_NAME, \"error\")):\n",
    "#             logging.error(\"Timeout Error Occured. Retrying...\")\n",
    "#             self.cleanup()\n",
    "#             result_container['result'] = None\n",
    "#             return\n",
    "\n",
    "#         self.select_model()\n",
    "#         sleep(1)\n",
    "\n",
    "#         self.genreate_response(message)\n",
    "#         sleep(1)\n",
    "\n",
    "#         data = self.scrape_data(splitter_text)\n",
    "#         self.cleanup()\n",
    "#         result_container['result'] = data\n",
    "\n",
    "# def run_with_timeout(duration, scraper, message, splitter_text=None):\n",
    "#     result_container = {}\n",
    "#     thread = threading.Thread(target=scraper.run, args=(message, splitter_text, result_container))\n",
    "#     thread.start()\n",
    "#     thread.join(duration)\n",
    "\n",
    "#     if thread.is_alive():\n",
    "#         print(\"Script exceeded the duration. Terminating...\")\n",
    "#         return None\n",
    "#     else:\n",
    "#         return result_container.get('result', None)\n",
    "\n",
    "# # Example usage\n",
    "# driver_path = 'path/to/chromedriver'\n",
    "# scraper = Scraper(driver_path)\n",
    "# timeout_duration = 5  # seconds\n",
    "# message = \"example message\"\n",
    "# splitter_text = None  # or some other value if needed\n",
    "\n",
    "# result = run_with_timeout(timeout_duration, scraper, message, splitter_text)\n",
    "# print(result)\n"
   ]
  },
  {
   "cell_type": "code",
   "execution_count": null,
   "metadata": {},
   "outputs": [],
   "source": []
  },
  {
   "cell_type": "code",
   "execution_count": null,
   "metadata": {},
   "outputs": [],
   "source": []
  },
  {
   "cell_type": "code",
   "execution_count": null,
   "metadata": {},
   "outputs": [],
   "source": []
  }
 ],
 "metadata": {
  "kernelspec": {
   "display_name": "evabot",
   "language": "python",
   "name": "python3"
  },
  "language_info": {
   "codemirror_mode": {
    "name": "ipython",
    "version": 3
   },
   "file_extension": ".py",
   "mimetype": "text/x-python",
   "name": "python",
   "nbconvert_exporter": "python",
   "pygments_lexer": "ipython3",
   "version": "3.11.8"
  }
 },
 "nbformat": 4,
 "nbformat_minor": 2
}
