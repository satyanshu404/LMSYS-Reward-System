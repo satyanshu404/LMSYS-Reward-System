{
 "cells": [
  {
   "cell_type": "code",
   "execution_count": 1,
   "metadata": {},
   "outputs": [],
   "source": [
    "from selenium import webdriver\n",
    "from selenium.webdriver.common.by import By\n",
    "from selenium.webdriver.support.ui import WebDriverWait\n",
    "from selenium.webdriver.common.keys import Keys\n",
    "from selenium.webdriver.support.ui import Select\n",
    "from selenium.webdriver.support import expected_conditions as EC\n",
    "from selenium.webdriver.common.action_chains import ActionChains\n",
    "from selenium.common.exceptions import TimeoutException\n",
    "from selenium.common.exceptions import NoSuchElementException\n",
    "import undetected_chromedriver as uc\n",
    "from time import sleep\n",
    "from constant import *\n",
    "from bs4 import BeautifulSoup\n",
    "import pyperclip"
   ]
  },
  {
   "cell_type": "code",
   "execution_count": 2,
   "metadata": {},
   "outputs": [],
   "source": [
    "# import undetected_chromedriver as uc\n",
    "# from selenium import webdriver\n",
    "\n",
    "# chrome_options = webdriver.ChromeOptions() \n",
    "# chrome_options.add_argument(\"--headless\")\n",
    "# chrome_options.add_argument('--ignore-certificate-errors')\n",
    "# chrome_options.add_argument('--allow-running-insecure-content')\n",
    "# chrome_options.add_argument(\"--window-size=1920,1080\")\n",
    "# user_agent = 'Mozilla/5.0 (X11; Linux x86_64) AppleWebKit/537.36 (KHTML, like Gecko) Chrome/60.0.3112.50 Safari/537.36'\n",
    "# chrome_options.add_argument(f'user-agent={user_agent}')\n",
    "# driver = uc.Chrome(options=chrome_options)"
   ]
  },
  {
   "cell_type": "code",
   "execution_count": 8,
   "metadata": {},
   "outputs": [],
   "source": [
    "import undetected_chromedriver as uc\n",
    "from selenium import webdriver\n",
    "\n",
    "chrome_options = webdriver.ChromeOptions()\n",
    "# chrome_options.add_argument(\"--headless\")\n",
    "chrome_options.add_argument(\"--no-sandbox\")\n",
    "chrome_options.add_argument(\"--window-size=100,100\")\n",
    "driver = uc.Chrome(options=chrome_options)\n",
    "\n",
    "# driver = uc.Chrome()\n",
    "# driver.get(ScraperConstants.URL)\n",
    "# window_handles = driver.window_handles\n"
   ]
  },
  {
   "cell_type": "code",
   "execution_count": 4,
   "metadata": {},
   "outputs": [],
   "source": [
    "driver.get(ScraperConstants.URL)\n",
    "window_handles = driver.window_handles\n"
   ]
  },
  {
   "cell_type": "code",
   "execution_count": 5,
   "metadata": {},
   "outputs": [],
   "source": [
    "def go_to(locator:tuple, driver=driver, duration:int=60):\n",
    "    element = WebDriverWait(driver, duration).until(\n",
    "        EC.element_to_be_clickable(locator)\n",
    "    )\n",
    "    driver.execute_script(\"arguments[0].scrollIntoView(true);\", element)\n",
    "    sleep(1)\n",
    "    return element "
   ]
  },
  {
   "cell_type": "code",
   "execution_count": 6,
   "metadata": {},
   "outputs": [
    {
     "ename": "KeyboardInterrupt",
     "evalue": "",
     "output_type": "error",
     "traceback": [
      "\u001b[1;31m---------------------------------------------------------------------------\u001b[0m",
      "\u001b[1;31mKeyboardInterrupt\u001b[0m                         Traceback (most recent call last)",
      "Cell \u001b[1;32mIn[6], line 9\u001b[0m\n\u001b[0;32m      6\u001b[0m     \u001b[38;5;28;01mexcept\u001b[39;00m \u001b[38;5;167;01mException\u001b[39;00m \u001b[38;5;28;01mas\u001b[39;00m e:\n\u001b[0;32m      7\u001b[0m         \u001b[38;5;28mprint\u001b[39m(\u001b[38;5;124mf\u001b[39m\u001b[38;5;124m\"\u001b[39m\u001b[38;5;124mNo alert present: \u001b[39m\u001b[38;5;132;01m{\u001b[39;00me\u001b[38;5;132;01m}\u001b[39;00m\u001b[38;5;124m\"\u001b[39m)\n\u001b[1;32m----> 9\u001b[0m \u001b[43maccept_alert\u001b[49m\u001b[43m(\u001b[49m\u001b[43m)\u001b[49m\n",
      "Cell \u001b[1;32mIn[6], line 3\u001b[0m, in \u001b[0;36maccept_alert\u001b[1;34m(driver, duration)\u001b[0m\n\u001b[0;32m      1\u001b[0m \u001b[38;5;28;01mdef\u001b[39;00m \u001b[38;5;21maccept_alert\u001b[39m(driver\u001b[38;5;241m=\u001b[39mdriver, duration\u001b[38;5;241m=\u001b[39m\u001b[38;5;241m60\u001b[39m):\n\u001b[0;32m      2\u001b[0m     \u001b[38;5;28;01mtry\u001b[39;00m:\n\u001b[1;32m----> 3\u001b[0m         \u001b[43mWebDriverWait\u001b[49m\u001b[43m(\u001b[49m\u001b[43mdriver\u001b[49m\u001b[43m,\u001b[49m\u001b[43m \u001b[49m\u001b[43mduration\u001b[49m\u001b[43m)\u001b[49m\u001b[38;5;241;43m.\u001b[39;49m\u001b[43muntil\u001b[49m\u001b[43m(\u001b[49m\u001b[43mEC\u001b[49m\u001b[38;5;241;43m.\u001b[39;49m\u001b[43malert_is_present\u001b[49m\u001b[43m(\u001b[49m\u001b[43m)\u001b[49m\u001b[43m)\u001b[49m\n\u001b[0;32m      4\u001b[0m         alert \u001b[38;5;241m=\u001b[39m driver\u001b[38;5;241m.\u001b[39mswitch_to\u001b[38;5;241m.\u001b[39malert\n\u001b[0;32m      5\u001b[0m         alert\u001b[38;5;241m.\u001b[39maccept()\n",
      "File \u001b[1;32mc:\\Users\\sksci\\anaconda3\\envs\\evabot\\Lib\\site-packages\\selenium\\webdriver\\support\\wait.py:102\u001b[0m, in \u001b[0;36mWebDriverWait.until\u001b[1;34m(self, method, message)\u001b[0m\n\u001b[0;32m    100\u001b[0m     screen \u001b[38;5;241m=\u001b[39m \u001b[38;5;28mgetattr\u001b[39m(exc, \u001b[38;5;124m\"\u001b[39m\u001b[38;5;124mscreen\u001b[39m\u001b[38;5;124m\"\u001b[39m, \u001b[38;5;28;01mNone\u001b[39;00m)\n\u001b[0;32m    101\u001b[0m     stacktrace \u001b[38;5;241m=\u001b[39m \u001b[38;5;28mgetattr\u001b[39m(exc, \u001b[38;5;124m\"\u001b[39m\u001b[38;5;124mstacktrace\u001b[39m\u001b[38;5;124m\"\u001b[39m, \u001b[38;5;28;01mNone\u001b[39;00m)\n\u001b[1;32m--> 102\u001b[0m time\u001b[38;5;241m.\u001b[39msleep(\u001b[38;5;28mself\u001b[39m\u001b[38;5;241m.\u001b[39m_poll)\n\u001b[0;32m    103\u001b[0m \u001b[38;5;28;01mif\u001b[39;00m time\u001b[38;5;241m.\u001b[39mmonotonic() \u001b[38;5;241m>\u001b[39m end_time:\n\u001b[0;32m    104\u001b[0m     \u001b[38;5;28;01mbreak\u001b[39;00m\n",
      "\u001b[1;31mKeyboardInterrupt\u001b[0m: "
     ]
    }
   ],
   "source": [
    "def accept_alert(driver=driver, duration=60):\n",
    "    try:\n",
    "        WebDriverWait(driver, duration).until(EC.alert_is_present())\n",
    "        alert = driver.switch_to.alert\n",
    "        alert.accept()\n",
    "    except Exception as e:\n",
    "        print(f\"No alert present: {e}\")\n",
    "\n",
    "accept_alert()"
   ]
  },
  {
   "cell_type": "code",
   "execution_count": null,
   "metadata": {},
   "outputs": [
    {
     "data": {
      "text/plain": [
       "True"
      ]
     },
     "execution_count": 9,
     "metadata": {},
     "output_type": "execute_result"
    }
   ],
   "source": [
    "driver.get_screenshot_as_file(\"screenshot.png\")"
   ]
  },
  {
   "cell_type": "code",
   "execution_count": 11,
   "metadata": {},
   "outputs": [],
   "source": [
    "# Wait for the page to load\n",
    "try:\n",
    "    WebDriverWait(driver, 30).until(\n",
    "        EC.presence_of_element_located((By.XPATH, '//*[contains(text(), \"Arena (battle)\")]'))\n",
    "    )\n",
    "except TimeoutException:\n",
    "    print(\"TimeoutException: Couldn't load the page\")\n",
    "    driver.quit()"
   ]
  },
  {
   "cell_type": "code",
   "execution_count": 12,
   "metadata": {},
   "outputs": [],
   "source": [
    "sleep(2)"
   ]
  },
  {
   "cell_type": "code",
   "execution_count": 13,
   "metadata": {},
   "outputs": [
    {
     "ename": "NoSuchWindowException",
     "evalue": "Message: no such window: target window already closed\nfrom unknown error: web view not found\n  (Session info: chrome=126.0.6478.127)\nStacktrace:\n\tGetHandleVerifier [0x005EC1C3+27395]\n\t(No symbol) [0x00583DC4]\n\t(No symbol) [0x00481B7F]\n\t(No symbol) [0x0045E483]\n\t(No symbol) [0x004EA06F]\n\t(No symbol) [0x004FC3D6]\n\t(No symbol) [0x004E3736]\n\t(No symbol) [0x004B7541]\n\t(No symbol) [0x004B80BD]\n\tGetHandleVerifier [0x008A3A93+2876371]\n\tGetHandleVerifier [0x008F7F5D+3221661]\n\tGetHandleVerifier [0x0066D634+556916]\n\tGetHandleVerifier [0x0067474C+585868]\n\t(No symbol) [0x0058CE04]\n\t(No symbol) [0x00589818]\n\t(No symbol) [0x005899B7]\n\t(No symbol) [0x0057BF0E]\n\tBaseThreadInitThunk [0x76F57BA9+25]\n\tRtlInitializeExceptionChain [0x77B9C10B+107]\n\tRtlClearBits [0x77B9C08F+191]\n",
     "output_type": "error",
     "traceback": [
      "\u001b[1;31m---------------------------------------------------------------------------\u001b[0m",
      "\u001b[1;31mNoSuchWindowException\u001b[0m                     Traceback (most recent call last)",
      "Cell \u001b[1;32mIn[13], line 1\u001b[0m\n\u001b[1;32m----> 1\u001b[0m \u001b[43mgo_to\u001b[49m\u001b[43m(\u001b[49m\u001b[43m(\u001b[49m\u001b[43mBy\u001b[49m\u001b[38;5;241;43m.\u001b[39;49m\u001b[43mID\u001b[49m\u001b[43m,\u001b[49m\u001b[43m \u001b[49m\u001b[38;5;124;43m\"\u001b[39;49m\u001b[38;5;124;43mcomponent-98-button\u001b[39;49m\u001b[38;5;124;43m\"\u001b[39;49m\u001b[43m)\u001b[49m\u001b[43m)\u001b[49m\u001b[38;5;241;43m.\u001b[39;49m\u001b[43mclick\u001b[49m\u001b[43m(\u001b[49m\u001b[43m)\u001b[49m\n\u001b[0;32m      2\u001b[0m \u001b[38;5;66;03m# driver.execute_script(\"window.scrollBy(0, 500);\")\u001b[39;00m\n",
      "File \u001b[1;32mc:\\Users\\sksci\\anaconda3\\envs\\evabot\\Lib\\site-packages\\selenium\\webdriver\\remote\\webelement.py:94\u001b[0m, in \u001b[0;36mWebElement.click\u001b[1;34m(self)\u001b[0m\n\u001b[0;32m     92\u001b[0m \u001b[38;5;28;01mdef\u001b[39;00m \u001b[38;5;21mclick\u001b[39m(\u001b[38;5;28mself\u001b[39m) \u001b[38;5;241m-\u001b[39m\u001b[38;5;241m>\u001b[39m \u001b[38;5;28;01mNone\u001b[39;00m:\n\u001b[0;32m     93\u001b[0m \u001b[38;5;250m    \u001b[39m\u001b[38;5;124;03m\"\"\"Clicks the element.\"\"\"\u001b[39;00m\n\u001b[1;32m---> 94\u001b[0m     \u001b[38;5;28;43mself\u001b[39;49m\u001b[38;5;241;43m.\u001b[39;49m\u001b[43m_execute\u001b[49m\u001b[43m(\u001b[49m\u001b[43mCommand\u001b[49m\u001b[38;5;241;43m.\u001b[39;49m\u001b[43mCLICK_ELEMENT\u001b[49m\u001b[43m)\u001b[49m\n",
      "File \u001b[1;32mc:\\Users\\sksci\\anaconda3\\envs\\evabot\\Lib\\site-packages\\selenium\\webdriver\\remote\\webelement.py:395\u001b[0m, in \u001b[0;36mWebElement._execute\u001b[1;34m(self, command, params)\u001b[0m\n\u001b[0;32m    393\u001b[0m     params \u001b[38;5;241m=\u001b[39m {}\n\u001b[0;32m    394\u001b[0m params[\u001b[38;5;124m\"\u001b[39m\u001b[38;5;124mid\u001b[39m\u001b[38;5;124m\"\u001b[39m] \u001b[38;5;241m=\u001b[39m \u001b[38;5;28mself\u001b[39m\u001b[38;5;241m.\u001b[39m_id\n\u001b[1;32m--> 395\u001b[0m \u001b[38;5;28;01mreturn\u001b[39;00m \u001b[38;5;28;43mself\u001b[39;49m\u001b[38;5;241;43m.\u001b[39;49m\u001b[43m_parent\u001b[49m\u001b[38;5;241;43m.\u001b[39;49m\u001b[43mexecute\u001b[49m\u001b[43m(\u001b[49m\u001b[43mcommand\u001b[49m\u001b[43m,\u001b[49m\u001b[43m \u001b[49m\u001b[43mparams\u001b[49m\u001b[43m)\u001b[49m\n",
      "File \u001b[1;32mc:\\Users\\sksci\\anaconda3\\envs\\evabot\\Lib\\site-packages\\selenium\\webdriver\\remote\\webdriver.py:348\u001b[0m, in \u001b[0;36mWebDriver.execute\u001b[1;34m(self, driver_command, params)\u001b[0m\n\u001b[0;32m    346\u001b[0m response \u001b[38;5;241m=\u001b[39m \u001b[38;5;28mself\u001b[39m\u001b[38;5;241m.\u001b[39mcommand_executor\u001b[38;5;241m.\u001b[39mexecute(driver_command, params)\n\u001b[0;32m    347\u001b[0m \u001b[38;5;28;01mif\u001b[39;00m response:\n\u001b[1;32m--> 348\u001b[0m     \u001b[38;5;28;43mself\u001b[39;49m\u001b[38;5;241;43m.\u001b[39;49m\u001b[43merror_handler\u001b[49m\u001b[38;5;241;43m.\u001b[39;49m\u001b[43mcheck_response\u001b[49m\u001b[43m(\u001b[49m\u001b[43mresponse\u001b[49m\u001b[43m)\u001b[49m\n\u001b[0;32m    349\u001b[0m     response[\u001b[38;5;124m\"\u001b[39m\u001b[38;5;124mvalue\u001b[39m\u001b[38;5;124m\"\u001b[39m] \u001b[38;5;241m=\u001b[39m \u001b[38;5;28mself\u001b[39m\u001b[38;5;241m.\u001b[39m_unwrap_value(response\u001b[38;5;241m.\u001b[39mget(\u001b[38;5;124m\"\u001b[39m\u001b[38;5;124mvalue\u001b[39m\u001b[38;5;124m\"\u001b[39m, \u001b[38;5;28;01mNone\u001b[39;00m))\n\u001b[0;32m    350\u001b[0m     \u001b[38;5;28;01mreturn\u001b[39;00m response\n",
      "File \u001b[1;32mc:\\Users\\sksci\\anaconda3\\envs\\evabot\\Lib\\site-packages\\selenium\\webdriver\\remote\\errorhandler.py:229\u001b[0m, in \u001b[0;36mErrorHandler.check_response\u001b[1;34m(self, response)\u001b[0m\n\u001b[0;32m    227\u001b[0m         alert_text \u001b[38;5;241m=\u001b[39m value[\u001b[38;5;124m\"\u001b[39m\u001b[38;5;124malert\u001b[39m\u001b[38;5;124m\"\u001b[39m]\u001b[38;5;241m.\u001b[39mget(\u001b[38;5;124m\"\u001b[39m\u001b[38;5;124mtext\u001b[39m\u001b[38;5;124m\"\u001b[39m)\n\u001b[0;32m    228\u001b[0m     \u001b[38;5;28;01mraise\u001b[39;00m exception_class(message, screen, stacktrace, alert_text)  \u001b[38;5;66;03m# type: ignore[call-arg]  # mypy is not smart enough here\u001b[39;00m\n\u001b[1;32m--> 229\u001b[0m \u001b[38;5;28;01mraise\u001b[39;00m exception_class(message, screen, stacktrace)\n",
      "\u001b[1;31mNoSuchWindowException\u001b[0m: Message: no such window: target window already closed\nfrom unknown error: web view not found\n  (Session info: chrome=126.0.6478.127)\nStacktrace:\n\tGetHandleVerifier [0x005EC1C3+27395]\n\t(No symbol) [0x00583DC4]\n\t(No symbol) [0x00481B7F]\n\t(No symbol) [0x0045E483]\n\t(No symbol) [0x004EA06F]\n\t(No symbol) [0x004FC3D6]\n\t(No symbol) [0x004E3736]\n\t(No symbol) [0x004B7541]\n\t(No symbol) [0x004B80BD]\n\tGetHandleVerifier [0x008A3A93+2876371]\n\tGetHandleVerifier [0x008F7F5D+3221661]\n\tGetHandleVerifier [0x0066D634+556916]\n\tGetHandleVerifier [0x0067474C+585868]\n\t(No symbol) [0x0058CE04]\n\t(No symbol) [0x00589818]\n\t(No symbol) [0x005899B7]\n\t(No symbol) [0x0057BF0E]\n\tBaseThreadInitThunk [0x76F57BA9+25]\n\tRtlInitializeExceptionChain [0x77B9C10B+107]\n\tRtlClearBits [0x77B9C08F+191]\n"
     ]
    }
   ],
   "source": [
    "go_to((By.ID, \"component-98-button\")).click()\n",
    "# driver.execute_script(\"window.scrollBy(0, 500);\")"
   ]
  },
  {
   "cell_type": "code",
   "execution_count": null,
   "metadata": {},
   "outputs": [],
   "source": [
    "ele = go_to((By.ID, \"component-108\"))"
   ]
  },
  {
   "cell_type": "code",
   "execution_count": null,
   "metadata": {},
   "outputs": [],
   "source": [
    "# ele = go_to((By.CLASS_NAME, \"error\"), duration=5)\n",
    "\n",
    "# if ele:\n",
    "#     print(\"Error\")\n",
    "#     driver.refresh()\n",
    "\n",
    "def is_element_present(by, value):\n",
    "    try:\n",
    "        driver.find_element(by, value)\n",
    "        return True\n",
    "    except NoSuchElementException:\n",
    "        return False\n",
    "    \n",
    "if is_element_present(By.CLASS_NAME, \"error\"):\n",
    "    print(\"Error\")\n",
    "    driver.refresh()"
   ]
  },
  {
   "cell_type": "code",
   "execution_count": null,
   "metadata": {},
   "outputs": [],
   "source": [
    "listbox = go_to((By.ID, \"component-103\"))\n",
    "ActionChains(driver).move_to_element(listbox).click().send_keys(Keys.BACKSPACE*150).perform()\n",
    "ActionChains(driver).move_to_element(listbox).click().send_keys('nemotron-4-340b').perform()\n",
    "ActionChains(driver).move_to_element(listbox).click().send_keys(Keys.ENTER).perform()"
   ]
  },
  {
   "cell_type": "code",
   "execution_count": null,
   "metadata": {},
   "outputs": [],
   "source": [
    "message = '''\n",
    "Act like a discriminator assistant which have the capabilities to distinguish between two responses for the given query.\n",
    "You will be given one query and two responses  and the label to that query. You have to compare the two responses based on the given correct label and provide feedback like\n",
    "which response is more relevant, accurate, clear, comprehensive, concise, logically flowing, evidence-based, consistent, objective, and responsive to the nuances of the query and why.\n",
    "If the response A is best then you have to write A, if response B is best then you have to write B and if both are best then you have to write AB.\n",
    "The feedback should be detailed and provide clear reasoning for each aspect and in reason compare why one response is better and other in bad.\n",
    "However do not soley rely on the given label and also consider the responses in general.\n",
    "Output must be in the following JSON format:\n",
    "Output: {{\n",
    "    'relevance': {{\n",
    "        'response': '<A/B/AB> Which response is more relevant to the query?',\n",
    "        'reason': 'Provide a detailed explanation of why one response directly addresses the query better and provides more pertinent information.'\n",
    "    }},\n",
    "    'accuracy': {{\n",
    "        'response': '<A/B/AB> Which response is more accurate?',\n",
    "        'reason': 'Explain why one response contains more reliable information based on facts and credible sources.'\n",
    "    }},\n",
    "    'clarity': {{\n",
    "        'response': '<A/B/AB> Which response is clearer?',\n",
    "        'reason': 'Describe why one response is more straightforward, easy to understand, and free of ambiguity.'\n",
    "    }},\n",
    "    'completeness': {{\n",
    "        'response': '<A/B/AB> Which response is more comprehensive?',\n",
    "        'reason': 'Detail why one response covers all aspects of the query more thoroughly.'\n",
    "    }},\n",
    "    'conciseness': {{\n",
    "        'response': '<A/B/AB> Which response is more concise?',\n",
    "        'reason': 'Explain why one response is more succinct and to the point without unnecessary information.'\n",
    "    }},\n",
    "    'logical_flow': {{\n",
    "        'response': '<A/B/AB> Which response has a better logical flow?',\n",
    "        'reason': 'Discuss why one response presents information in a more organized and coherent manner.'\n",
    "    }},\n",
    "    'evidence_examples': {{\n",
    "        'response': '<A/B/AB> Which response provides stronger evidence and examples?',\n",
    "        'reason': 'Specify why one response includes stronger or more relevant evidence and examples to support its points.'\n",
    "    }},\n",
    "    'consistency': {{\n",
    "        'response': '<A/B/AB> Which response is more consistent?',\n",
    "        'reason': 'Clarify why one response maintains internal consistency without contradictions.'\n",
    "    }},\n",
    "    'objectivity': {{\n",
    "        'response': '<A/B/AB> Which response is more objective?',\n",
    "        'reason': 'Explain why one response is more unbiased and neutral in its presentation.'\n",
    "    }},\n",
    "    'responsiveness': {{\n",
    "        'response': '<A/B/AB> Which response is more responsive to the nuances and sub-questions within the query?',\n",
    "        'reason': 'Describe why one response better addresses specific details and aspects of the query, including any sub-questions.'\n",
    "    }}\n",
    "}}\n",
    "Task:\n",
    "Query: \"Is it morally right to try to have a certain percentage of females on managerial positions?\"\n",
    "Resonse A: that involves considerations of fairness, equality, diversity, and discrimination.\\n\\nHere are some arguments in favor of and against such policies:\\n\\n**Arguments in favor:**\\n\\n1. **Correcting Historical Inequities:** Women have historically been underrepresented in leadership roles due to various cultural, institutional, and social barriers. Aiming for a specific percentage can be seen as a corrective measure to address past and ongoing discrimination.\\n\\n2. **Promoting Diversity:** Diverse leadership teams can enhance decision-making and represent a broader range of perspectives. This can lead to better outcomes for organizations and society as a whole.\\n\\n3. **Equality of Opportunity:** Setting targets for female representation in management can help ensure that women have equal opportunities to advance in their careers.\\n\\n4. **Role Modeling:** Increased visibility of female leaders can inspire and encourage other women and girls to pursue leadership roles.\\n\\n**Arguments against:**\\n\\n1. **Reverse Discrimination:** Setting a quota for female representation might lead to the perception or reality of reverse discrimination, where men might be overlooked for positions despite being qualified, simply to meet the gender target.\\n\\n2. **Meritocracy Concerns:** Critics argue that employment and promotion should be based solely on merit and qualifications, not gender. They fear that quotas could compromise the quality of leadership if less qualified individuals are promoted to meet gender targets.\\n\\n3. **Tokenism:** There is a risk that women appointed to meet quotas might be seen as \\only on gender might overlook other important aspects of diversity, such as race, ethnicity, socioeconomic background, or sexual orientation.\\n\\nUltimately, the morality of aiming for a certain percentage of females in managerial positions depends on one's ethical framework and the context in which such policies are implemented. Proponents of gender diversity targets often argue that these measures are necessary as a transitional mechanism to create a level playing field, while opponents may argue for a \\ to implement policies that promote fairness and equality while minimizing negative consequences. It is also important to address the root causes of gender inequality, such as unconscious bias, work-life balance challenges, and lack of supportive policies, to create an environment where everyone has the opportunity to succeed based on their capabilities and contributions.\n",
    "Response B: As an AI, I don't have personal beliefs or opinions. However, I can tell you that the question of gender quotas in managerial positions is a complex one and positions can vary. Advocates argue that such measures can help correct historical imbalances, promote diversity, and may lead to better decision-making. Critics may argue that positions should be based purely on merit, and that quotas could potentially lead to tokenism or unqualified candidates being promoted. Morality can be subjective and differs from person to person based on their personal beliefs, cultural background, and values. It's a topic with valid arguments on both sides, and it's up to each individual or organization to decide what they believe is right.\n",
    "Output:\n",
    "'''"
   ]
  },
  {
   "cell_type": "code",
   "execution_count": null,
   "metadata": {},
   "outputs": [],
   "source": [
    "message = message.replace(\"\\n\", \"\\\\n\")"
   ]
  },
  {
   "cell_type": "code",
   "execution_count": null,
   "metadata": {},
   "outputs": [],
   "source": [
    "pyperclip.copy(message)"
   ]
  },
  {
   "cell_type": "code",
   "execution_count": null,
   "metadata": {},
   "outputs": [
    {
     "name": "stdout",
     "output_type": "stream",
     "text": [
      "\\nAct like a discriminator assistant which have the capabilities to distinguish between two responses for the given query.\\nYou will be given one query and two responses  and the label to that query. You have to compare the two responses based on the given correct label and provide feedback like\\nwhich response is more relevant, accurate, clear, comprehensive, concise, logically flowing, evidence-based, consistent, objective, and responsive to the nuances of the query and why.\\nIf the response A is best then you have to write A, if response B is best then you have to write B and if both are best then you have to write AB.\\nThe feedback should be detailed and provide clear reasoning for each aspect and in reason compare why one response is better and other in bad.\\nHowever do not soley rely on the given label and also consider the responses in general.\\nOutput must be in the following JSON format:\\nOutput: {{\\n    'relevance': {{\\n        'response': '<A/B/AB> Which response is more relevant to the query?',\\n        'reason': 'Provide a detailed explanation of why one response directly addresses the query better and provides more pertinent information.'\\n    }},\\n    'accuracy': {{\\n        'response': '<A/B/AB> Which response is more accurate?',\\n        'reason': 'Explain why one response contains more reliable information based on facts and credible sources.'\\n    }},\\n    'clarity': {{\\n        'response': '<A/B/AB> Which response is clearer?',\\n        'reason': 'Describe why one response is more straightforward, easy to understand, and free of ambiguity.'\\n    }},\\n    'completeness': {{\\n        'response': '<A/B/AB> Which response is more comprehensive?',\\n        'reason': 'Detail why one response covers all aspects of the query more thoroughly.'\\n    }},\\n    'conciseness': {{\\n        'response': '<A/B/AB> Which response is more concise?',\\n        'reason': 'Explain why one response is more succinct and to the point without unnecessary information.'\\n    }},\\n    'logical_flow': {{\\n        'response': '<A/B/AB> Which response has a better logical flow?',\\n        'reason': 'Discuss why one response presents information in a more organized and coherent manner.'\\n    }},\\n    'evidence_examples': {{\\n        'response': '<A/B/AB> Which response provides stronger evidence and examples?',\\n        'reason': 'Specify why one response includes stronger or more relevant evidence and examples to support its points.'\\n    }},\\n    'consistency': {{\\n        'response': '<A/B/AB> Which response is more consistent?',\\n        'reason': 'Clarify why one response maintains internal consistency without contradictions.'\\n    }},\\n    'objectivity': {{\\n        'response': '<A/B/AB> Which response is more objective?',\\n        'reason': 'Explain why one response is more unbiased and neutral in its presentation.'\\n    }},\\n    'responsiveness': {{\\n        'response': '<A/B/AB> Which response is more responsive to the nuances and sub-questions within the query?',\\n        'reason': 'Describe why one response better addresses specific details and aspects of the query, including any sub-questions.'\\n    }}\\n}}\\nTask:\\nQuery: \"Is it morally right to try to have a certain percentage of females on managerial positions?\"\\nResonse A: that involves considerations of fairness, equality, diversity, and discrimination.\\n\\nHere are some arguments in favor of and against such policies:\\n\\n**Arguments in favor:**\\n\\n1. **Correcting Historical Inequities:** Women have historically been underrepresented in leadership roles due to various cultural, institutional, and social barriers. Aiming for a specific percentage can be seen as a corrective measure to address past and ongoing discrimination.\\n\\n2. **Promoting Diversity:** Diverse leadership teams can enhance decision-making and represent a broader range of perspectives. This can lead to better outcomes for organizations and society as a whole.\\n\\n3. **Equality of Opportunity:** Setting targets for female representation in management can help ensure that women have equal opportunities to advance in their careers.\\n\\n4. **Role Modeling:** Increased visibility of female leaders can inspire and encourage other women and girls to pursue leadership roles.\\n\\n**Arguments against:**\\n\\n1. **Reverse Discrimination:** Setting a quota for female representation might lead to the perception or reality of reverse discrimination, where men might be overlooked for positions despite being qualified, simply to meet the gender target.\\n\\n2. **Meritocracy Concerns:** Critics argue that employment and promotion should be based solely on merit and qualifications, not gender. They fear that quotas could compromise the quality of leadership if less qualified individuals are promoted to meet gender targets.\\n\\n3. **Tokenism:** There is a risk that women appointed to meet quotas might be seen as \\only on gender might overlook other important aspects of diversity, such as race, ethnicity, socioeconomic background, or sexual orientation.\\n\\nUltimately, the morality of aiming for a certain percentage of females in managerial positions depends on one's ethical framework and the context in which such policies are implemented. Proponents of gender diversity targets often argue that these measures are necessary as a transitional mechanism to create a level playing field, while opponents may argue for a \\ to implement policies that promote fairness and equality while minimizing negative consequences. It is also important to address the root causes of gender inequality, such as unconscious bias, work-life balance challenges, and lack of supportive policies, to create an environment where everyone has the opportunity to succeed based on their capabilities and contributions.\\nResponse B: As an AI, I don't have personal beliefs or opinions. However, I can tell you that the question of gender quotas in managerial positions is a complex one and positions can vary. Advocates argue that such measures can help correct historical imbalances, promote diversity, and may lead to better decision-making. Critics may argue that positions should be based purely on merit, and that quotas could potentially lead to tokenism or unqualified candidates being promoted. Morality can be subjective and differs from person to person based on their personal beliefs, cultural background, and values. It's a topic with valid arguments on both sides, and it's up to each individual or organization to decide what they believe is right.\\nOutput:\\n\n"
     ]
    }
   ],
   "source": [
    "print(message)"
   ]
  },
  {
   "cell_type": "code",
   "execution_count": null,
   "metadata": {},
   "outputs": [],
   "source": [
    "textarea = go_to((By.ID, \"component-108\"))\n",
    "actions = ActionChains(driver).move_to_element(textarea).click()\n",
    "# .send_keys(message).perform()\n",
    "actions.key_down(Keys.CONTROL).send_keys('v').key_up(Keys.CONTROL).perform()"
   ]
  },
  {
   "cell_type": "code",
   "execution_count": null,
   "metadata": {},
   "outputs": [],
   "source": [
    "driver.execute_script(\"arguments[0].dispatchEvent(new Event('input'));\", textarea)"
   ]
  },
  {
   "cell_type": "code",
   "execution_count": null,
   "metadata": {},
   "outputs": [],
   "source": [
    "ActionChains(driver).move_to_element(textarea).click().send_keys(Keys.ENTER).perform()"
   ]
  },
  {
   "cell_type": "code",
   "execution_count": null,
   "metadata": {},
   "outputs": [],
   "source": [
    "# go_to((By.ID, \"component-110\")).click()\n",
    "# import pyperclip\n",
    "# pyperclip.copy('The text to be copied to the clipboard.')\n",
    "# spam = pyperclip.paste()"
   ]
  },
  {
   "cell_type": "code",
   "execution_count": null,
   "metadata": {},
   "outputs": [],
   "source": [
    "# simulate_user_activity()\n",
    "sleep(2)"
   ]
  },
  {
   "cell_type": "code",
   "execution_count": null,
   "metadata": {},
   "outputs": [
    {
     "ename": "NoSuchWindowException",
     "evalue": "Message: no such window: target window already closed\nfrom unknown error: web view not found\n  (Session info: chrome=126.0.6478.127)\nStacktrace:\n\tGetHandleVerifier [0x0116C1C3+27395]\n\t(No symbol) [0x01103DC4]\n\t(No symbol) [0x01001B7F]\n\t(No symbol) [0x00FDE483]\n\t(No symbol) [0x0106A06F]\n\t(No symbol) [0x0107C3D6]\n\t(No symbol) [0x01063736]\n\t(No symbol) [0x01037541]\n\t(No symbol) [0x010380BD]\n\tGetHandleVerifier [0x01423A93+2876371]\n\tGetHandleVerifier [0x01477F5D+3221661]\n\tGetHandleVerifier [0x011ED634+556916]\n\tGetHandleVerifier [0x011F474C+585868]\n\t(No symbol) [0x0110CE04]\n\t(No symbol) [0x01109818]\n\t(No symbol) [0x011099B7]\n\t(No symbol) [0x010FBF0E]\n\tBaseThreadInitThunk [0x76F57BA9+25]\n\tRtlInitializeExceptionChain [0x77B9C10B+107]\n\tRtlClearBits [0x77B9C08F+191]\n",
     "output_type": "error",
     "traceback": [
      "\u001b[1;31m---------------------------------------------------------------------------\u001b[0m",
      "\u001b[1;31mNoSuchWindowException\u001b[0m                     Traceback (most recent call last)",
      "Cell \u001b[1;32mIn[27], line 1\u001b[0m\n\u001b[1;32m----> 1\u001b[0m \u001b[43mWebDriverWait\u001b[49m\u001b[43m(\u001b[49m\u001b[43mdriver\u001b[49m\u001b[43m,\u001b[49m\u001b[43m \u001b[49m\u001b[38;5;241;43m10000\u001b[39;49m\u001b[43m)\u001b[49m\u001b[38;5;241;43m.\u001b[39;49m\u001b[43muntil\u001b[49m\u001b[43m(\u001b[49m\u001b[43mEC\u001b[49m\u001b[38;5;241;43m.\u001b[39;49m\u001b[43melement_to_be_clickable\u001b[49m\u001b[43m(\u001b[49m\u001b[43m(\u001b[49m\u001b[43mBy\u001b[49m\u001b[38;5;241;43m.\u001b[39;49m\u001b[43mID\u001b[49m\u001b[43m,\u001b[49m\u001b[43m \u001b[49m\u001b[38;5;124;43m'\u001b[39;49m\u001b[38;5;124;43mcomponent-117\u001b[39;49m\u001b[38;5;124;43m'\u001b[39;49m\u001b[43m)\u001b[49m\u001b[43m)\u001b[49m\u001b[43m)\u001b[49m\n\u001b[0;32m      2\u001b[0m sleep(\u001b[38;5;241m2\u001b[39m)\n",
      "File \u001b[1;32mc:\\Users\\sksci\\anaconda3\\envs\\evabot\\Lib\\site-packages\\selenium\\webdriver\\support\\wait.py:96\u001b[0m, in \u001b[0;36mWebDriverWait.until\u001b[1;34m(self, method, message)\u001b[0m\n\u001b[0;32m     94\u001b[0m \u001b[38;5;28;01mwhile\u001b[39;00m \u001b[38;5;28;01mTrue\u001b[39;00m:\n\u001b[0;32m     95\u001b[0m     \u001b[38;5;28;01mtry\u001b[39;00m:\n\u001b[1;32m---> 96\u001b[0m         value \u001b[38;5;241m=\u001b[39m \u001b[43mmethod\u001b[49m\u001b[43m(\u001b[49m\u001b[38;5;28;43mself\u001b[39;49m\u001b[38;5;241;43m.\u001b[39;49m\u001b[43m_driver\u001b[49m\u001b[43m)\u001b[49m\n\u001b[0;32m     97\u001b[0m         \u001b[38;5;28;01mif\u001b[39;00m value:\n\u001b[0;32m     98\u001b[0m             \u001b[38;5;28;01mreturn\u001b[39;00m value\n",
      "File \u001b[1;32mc:\\Users\\sksci\\anaconda3\\envs\\evabot\\Lib\\site-packages\\selenium\\webdriver\\support\\expected_conditions.py:363\u001b[0m, in \u001b[0;36melement_to_be_clickable.<locals>._predicate\u001b[1;34m(driver)\u001b[0m\n\u001b[0;32m    361\u001b[0m target \u001b[38;5;241m=\u001b[39m mark\n\u001b[0;32m    362\u001b[0m \u001b[38;5;28;01mif\u001b[39;00m \u001b[38;5;129;01mnot\u001b[39;00m \u001b[38;5;28misinstance\u001b[39m(target, WebElement):  \u001b[38;5;66;03m# if given locator instead of WebElement\u001b[39;00m\n\u001b[1;32m--> 363\u001b[0m     target \u001b[38;5;241m=\u001b[39m \u001b[43mdriver\u001b[49m\u001b[38;5;241;43m.\u001b[39;49m\u001b[43mfind_element\u001b[49m\u001b[43m(\u001b[49m\u001b[38;5;241;43m*\u001b[39;49m\u001b[43mtarget\u001b[49m\u001b[43m)\u001b[49m  \u001b[38;5;66;03m# grab element at locator\u001b[39;00m\n\u001b[0;32m    364\u001b[0m element \u001b[38;5;241m=\u001b[39m visibility_of(target)(driver)\n\u001b[0;32m    365\u001b[0m \u001b[38;5;28;01mif\u001b[39;00m element \u001b[38;5;129;01mand\u001b[39;00m element\u001b[38;5;241m.\u001b[39mis_enabled():\n",
      "File \u001b[1;32mc:\\Users\\sksci\\anaconda3\\envs\\evabot\\Lib\\site-packages\\selenium\\webdriver\\remote\\webdriver.py:742\u001b[0m, in \u001b[0;36mWebDriver.find_element\u001b[1;34m(self, by, value)\u001b[0m\n\u001b[0;32m    739\u001b[0m     by \u001b[38;5;241m=\u001b[39m By\u001b[38;5;241m.\u001b[39mCSS_SELECTOR\n\u001b[0;32m    740\u001b[0m     value \u001b[38;5;241m=\u001b[39m \u001b[38;5;124mf\u001b[39m\u001b[38;5;124m'\u001b[39m\u001b[38;5;124m[name=\u001b[39m\u001b[38;5;124m\"\u001b[39m\u001b[38;5;132;01m{\u001b[39;00mvalue\u001b[38;5;132;01m}\u001b[39;00m\u001b[38;5;124m\"\u001b[39m\u001b[38;5;124m]\u001b[39m\u001b[38;5;124m'\u001b[39m\n\u001b[1;32m--> 742\u001b[0m \u001b[38;5;28;01mreturn\u001b[39;00m \u001b[38;5;28;43mself\u001b[39;49m\u001b[38;5;241;43m.\u001b[39;49m\u001b[43mexecute\u001b[49m\u001b[43m(\u001b[49m\u001b[43mCommand\u001b[49m\u001b[38;5;241;43m.\u001b[39;49m\u001b[43mFIND_ELEMENT\u001b[49m\u001b[43m,\u001b[49m\u001b[43m \u001b[49m\u001b[43m{\u001b[49m\u001b[38;5;124;43m\"\u001b[39;49m\u001b[38;5;124;43musing\u001b[39;49m\u001b[38;5;124;43m\"\u001b[39;49m\u001b[43m:\u001b[49m\u001b[43m \u001b[49m\u001b[43mby\u001b[49m\u001b[43m,\u001b[49m\u001b[43m \u001b[49m\u001b[38;5;124;43m\"\u001b[39;49m\u001b[38;5;124;43mvalue\u001b[39;49m\u001b[38;5;124;43m\"\u001b[39;49m\u001b[43m:\u001b[49m\u001b[43m \u001b[49m\u001b[43mvalue\u001b[49m\u001b[43m}\u001b[49m\u001b[43m)\u001b[49m[\u001b[38;5;124m\"\u001b[39m\u001b[38;5;124mvalue\u001b[39m\u001b[38;5;124m\"\u001b[39m]\n",
      "File \u001b[1;32mc:\\Users\\sksci\\anaconda3\\envs\\evabot\\Lib\\site-packages\\selenium\\webdriver\\remote\\webdriver.py:348\u001b[0m, in \u001b[0;36mWebDriver.execute\u001b[1;34m(self, driver_command, params)\u001b[0m\n\u001b[0;32m    346\u001b[0m response \u001b[38;5;241m=\u001b[39m \u001b[38;5;28mself\u001b[39m\u001b[38;5;241m.\u001b[39mcommand_executor\u001b[38;5;241m.\u001b[39mexecute(driver_command, params)\n\u001b[0;32m    347\u001b[0m \u001b[38;5;28;01mif\u001b[39;00m response:\n\u001b[1;32m--> 348\u001b[0m     \u001b[38;5;28;43mself\u001b[39;49m\u001b[38;5;241;43m.\u001b[39;49m\u001b[43merror_handler\u001b[49m\u001b[38;5;241;43m.\u001b[39;49m\u001b[43mcheck_response\u001b[49m\u001b[43m(\u001b[49m\u001b[43mresponse\u001b[49m\u001b[43m)\u001b[49m\n\u001b[0;32m    349\u001b[0m     response[\u001b[38;5;124m\"\u001b[39m\u001b[38;5;124mvalue\u001b[39m\u001b[38;5;124m\"\u001b[39m] \u001b[38;5;241m=\u001b[39m \u001b[38;5;28mself\u001b[39m\u001b[38;5;241m.\u001b[39m_unwrap_value(response\u001b[38;5;241m.\u001b[39mget(\u001b[38;5;124m\"\u001b[39m\u001b[38;5;124mvalue\u001b[39m\u001b[38;5;124m\"\u001b[39m, \u001b[38;5;28;01mNone\u001b[39;00m))\n\u001b[0;32m    350\u001b[0m     \u001b[38;5;28;01mreturn\u001b[39;00m response\n",
      "File \u001b[1;32mc:\\Users\\sksci\\anaconda3\\envs\\evabot\\Lib\\site-packages\\selenium\\webdriver\\remote\\errorhandler.py:229\u001b[0m, in \u001b[0;36mErrorHandler.check_response\u001b[1;34m(self, response)\u001b[0m\n\u001b[0;32m    227\u001b[0m         alert_text \u001b[38;5;241m=\u001b[39m value[\u001b[38;5;124m\"\u001b[39m\u001b[38;5;124malert\u001b[39m\u001b[38;5;124m\"\u001b[39m]\u001b[38;5;241m.\u001b[39mget(\u001b[38;5;124m\"\u001b[39m\u001b[38;5;124mtext\u001b[39m\u001b[38;5;124m\"\u001b[39m)\n\u001b[0;32m    228\u001b[0m     \u001b[38;5;28;01mraise\u001b[39;00m exception_class(message, screen, stacktrace, alert_text)  \u001b[38;5;66;03m# type: ignore[call-arg]  # mypy is not smart enough here\u001b[39;00m\n\u001b[1;32m--> 229\u001b[0m \u001b[38;5;28;01mraise\u001b[39;00m exception_class(message, screen, stacktrace)\n",
      "\u001b[1;31mNoSuchWindowException\u001b[0m: Message: no such window: target window already closed\nfrom unknown error: web view not found\n  (Session info: chrome=126.0.6478.127)\nStacktrace:\n\tGetHandleVerifier [0x0116C1C3+27395]\n\t(No symbol) [0x01103DC4]\n\t(No symbol) [0x01001B7F]\n\t(No symbol) [0x00FDE483]\n\t(No symbol) [0x0106A06F]\n\t(No symbol) [0x0107C3D6]\n\t(No symbol) [0x01063736]\n\t(No symbol) [0x01037541]\n\t(No symbol) [0x010380BD]\n\tGetHandleVerifier [0x01423A93+2876371]\n\tGetHandleVerifier [0x01477F5D+3221661]\n\tGetHandleVerifier [0x011ED634+556916]\n\tGetHandleVerifier [0x011F474C+585868]\n\t(No symbol) [0x0110CE04]\n\t(No symbol) [0x01109818]\n\t(No symbol) [0x011099B7]\n\t(No symbol) [0x010FBF0E]\n\tBaseThreadInitThunk [0x76F57BA9+25]\n\tRtlInitializeExceptionChain [0x77B9C10B+107]\n\tRtlClearBits [0x77B9C08F+191]\n"
     ]
    }
   ],
   "source": [
    "WebDriverWait(driver, 10000).until(EC.element_to_be_clickable((By.ID, 'component-117')))\n",
    "sleep(2)"
   ]
  },
  {
   "cell_type": "code",
   "execution_count": null,
   "metadata": {},
   "outputs": [],
   "source": [
    "page_source = driver.page_source\n",
    "\n",
    "# Parse the page source with BeautifulSoup\n",
    "soup = BeautifulSoup(page_source, 'html.parser')"
   ]
  },
  {
   "cell_type": "code",
   "execution_count": null,
   "metadata": {},
   "outputs": [],
   "source": [
    "text = soup.text.split(\"Scroll down and start chatting\")[-1]"
   ]
  },
  {
   "cell_type": "code",
   "execution_count": null,
   "metadata": {},
   "outputs": [],
   "source": [
    "text = text.split(\"Textbox\")[0]"
   ]
  },
  {
   "cell_type": "code",
   "execution_count": null,
   "metadata": {},
   "outputs": [
    {
     "name": "stdout",
     "output_type": "stream",
     "text": [
      "v\n",
      "     I apologize, but I'm not sure what you mean by just the letter \"v\". Could you please provide more context or clarify your question? Are you looking for information about something that starts with \"v\"? Or did you accidentally send an incomplete message? I'd be happy to help if you can give me more details about what you're asking.\n"
     ]
    }
   ],
   "source": [
    "\n",
    "print(text.split(\"Output:\")[-1].replace(\"\\\\n\", \" \").strip())"
   ]
  },
  {
   "cell_type": "code",
   "execution_count": null,
   "metadata": {},
   "outputs": [
    {
     "ename": "IndentationError",
     "evalue": "unexpected indent (<string>, line 2)",
     "output_type": "error",
     "traceback": [
      "Traceback \u001b[1;36m(most recent call last)\u001b[0m:\n",
      "\u001b[0m  File \u001b[0;32m~\\AppData\\Roaming\\Python\\Python311\\site-packages\\IPython\\core\\interactiveshell.py:3508\u001b[0m in \u001b[0;35mrun_code\u001b[0m\n    exec(code_obj, self.user_global_ns, self.user_ns)\u001b[0m\n",
      "\u001b[1;36m  Cell \u001b[1;32mIn[85], line 1\u001b[1;36m\n\u001b[1;33m    dict_ = eval(text.split(\"Output:\")[-1].replace(\"\\\\n\", \" \").strip())\u001b[1;36m\n",
      "\u001b[1;36m  File \u001b[1;32m<string>:2\u001b[1;36m\u001b[0m\n\u001b[1;33m    I apologize, but I'm not sure what you mean by just the letter \"v\". Could you please provide more context or clarify your question? Are you looking for information about something that starts with \"v\"? Or did you accidentally send an incomplete message? I'd be happy to help if you can give me more details about what you're asking.\u001b[0m\n\u001b[1;37m    ^\u001b[0m\n\u001b[1;31mIndentationError\u001b[0m\u001b[1;31m:\u001b[0m unexpected indent\n"
     ]
    }
   ],
   "source": [
    "dict_ = eval(text.split(\"Output:\")[-1].replace(\"\\\\n\", \" \").strip())"
   ]
  },
  {
   "cell_type": "code",
   "execution_count": null,
   "metadata": {},
   "outputs": [
    {
     "data": {
      "text/plain": [
       "{'comparison': {'relevance': \"Both responses are relevant to the query, but Response A provides a more detailed and nuanced exploration of the topic, making it more comprehensive and responsive to the query's complexities.\",\n",
       "  'accuracy': 'Both responses are accurate, but Response A offers a more extensive analysis of the arguments for and against gender quotas, making it more informative and evidence-based.',\n",
       "  'clarity': \"Both responses are clear, but Response A's structured format and use of bold headings make it easier to follow and understand the different arguments presented.\",\n",
       "  'comprehensiveness': 'Response A is more comprehensive as it delves into the various aspects of the debate, providing a balanced view of the arguments for and against gender quotas.',\n",
       "  'conciseness': \"Response B is more concise, providing a brief summary of the main arguments. However, Response A's length is justified by its depth and comprehensiveness.\",\n",
       "  'logical_flow': \"Both responses have a logical flow, but Response A's structured format and clear transitions between arguments make it more coherent and easier to follow.\",\n",
       "  'evidence_based': 'Response A is more evidence-based, as it provides specific arguments and examples to support its points, while Response B offers a more general overview.',\n",
       "  'consistency': \"Both responses are consistent in their presentation of the arguments, but Response A's structured format and detailed analysis make it more consistent in its exploration of the topic.\",\n",
       "  'objectivity': \"Both responses are objective, but Response A's balanced presentation of arguments for and against gender quotas makes it more objective in its analysis.\",\n",
       "  'responsiveness': 'Response A is more responsive to the nuances of the query, as it addresses the moral implications of gender quotas and provides a more detailed examination of the arguments.'},\n",
       " 'preferred_response': 'Response A'}"
      ]
     },
     "execution_count": 28,
     "metadata": {},
     "output_type": "execute_result"
    }
   ],
   "source": [
    "dict_"
   ]
  },
  {
   "cell_type": "code",
   "execution_count": null,
   "metadata": {},
   "outputs": [],
   "source": []
  },
  {
   "cell_type": "code",
   "execution_count": null,
   "metadata": {},
   "outputs": [],
   "source": []
  },
  {
   "cell_type": "code",
   "execution_count": null,
   "metadata": {},
   "outputs": [],
   "source": [
    "# {'relevance': {'response': 'A',\n",
    "#   'reason': 'Response A is more relevant to the query as it provides a detailed exploration of the moral implications of having a certain percentage of females in managerial positions. It discusses various arguments for and against this practice, offering a comprehensive and nuanced perspective. In contrast, Response B offers a brief and general overview of the topic without delving into the specific moral considerations requested in the query.'},\n",
    "#  'accuracy': {'response': 'A',\n",
    "#   'reason': 'Response A is more accurate as it presents a balanced view of the topic, discussing both the advantages and disadvantages of gender quotas in managerial positions. It also acknowledges the subjective nature of morality. Response B, while not inaccurate, is less detailed and does not provide as much factual information or context as Response A.'},\n",
    "#  'clarity': {'response': 'B',\n",
    "#   'reason': \"Response B is clearer as it presents its points in a more straightforward and concise manner. Response A, while comprehensive, may be overwhelming for some readers due to its length and depth. Response B's simplicity makes it easier to understand, especially for those unfamiliar with the topic.\"},\n",
    "#  'completeness': {'response': 'A',\n",
    "#   'reason': 'Response A is more comprehensive as it thoroughly explores the moral implications of gender quotas in managerial positions. It discusses various arguments for and against this practice, offering a well-rounded perspective. Response B, while clear and accurate, does not provide as much detail or context as Response A.'},\n",
    "#  'conciseness': {'response': 'B',\n",
    "#   'reason': 'Response B is more concise as it presents its points in a brief and to-the-point manner. Response A, while comprehensive, is significantly longer and may contain more information than necessary for some readers.'},\n",
    "#  'logical_flow': {'response': 'A',\n",
    "#   'reason': 'Response A has a better logical flow as it presents its arguments in a structured and organized manner. It introduces the topic, discusses arguments for and against gender quotas, and concludes by acknowledging the subjective nature of morality. Response B, while clear, does not have as clear a structure or flow as Response A.'},\n",
    "#  'evidence_examples': {'response': 'A',\n",
    "#   'reason': 'Response A provides stronger evidence and examples as it discusses specific arguments for and against gender quotas in managerial positions. It offers detailed explanations and examples to support its points. Response B, while accurate, does not provide as much evidence or examples as Response A.'},\n",
    "#  'consistency': {'response': 'A',\n",
    "#   'reason': 'Both responses are consistent, but Response A is more consistent in its depth and detail throughout the response. Response B, while consistent, is less detailed and comprehensive than Response A.'},\n",
    "#  'objectivity': {'response': 'A',\n",
    "#   'reason': 'Both responses are objective, but Response A is more objective as it presents a balanced view of the topic, discussing both the advantages and disadvantages of gender quotas in managerial positions. Response B, while objective, is less detailed and comprehensive than Response A.'},\n",
    "#  'responsiveness': {'response': 'A',\n",
    "#   'reason': 'Response A is more responsive to the nuances and sub-questions within the query as it addresses the specific moral considerations of gender quotas in managerial positions. It also acknowledges the subjective nature of morality. Response B, while responsive, does not address the nuances of the query as thoroughly as Response A.'}}"
   ]
  },
  {
   "cell_type": "code",
   "execution_count": null,
   "metadata": {},
   "outputs": [],
   "source": [
    "# import pandas as pd\n",
    "\n",
    "# df = pd.read_csv('../data/train.csv')\n",
    "# df = df.head(500)\n",
    "# # assign \"No Value\" value to each response of each row\n",
    "# df['response'] = 'No Value'\n",
    "# # df.to_csv('../data/small-train.csv', index=False)"
   ]
  },
  {
   "cell_type": "code",
   "execution_count": null,
   "metadata": {},
   "outputs": [
    {
     "data": {
      "text/plain": [
       "str"
      ]
     },
     "execution_count": 3,
     "metadata": {},
     "output_type": "execute_result"
    }
   ],
   "source": [
    "# type(df.iloc[0].response)"
   ]
  },
  {
   "cell_type": "code",
   "execution_count": null,
   "metadata": {},
   "outputs": [],
   "source": [
    "# import json\n",
    "# import re\n",
    "\n",
    "# def clean_text(text: str) -> list[str]:\n",
    "#     cleaned_text = re.sub(\n",
    "#     r'[\\uD800-\\uDBFF][\\uDC00-\\uDFFF]',\n",
    "#     lambda m: f'\\\\u{ord(m.group()):04x}',\n",
    "#     text)\n",
    "#     return json.loads(cleaned_text)\n",
    "\n",
    "# def split_lists(row):\n",
    "#     prompts = clean_text(row['prompt'])\n",
    "#     response_as = clean_text(row['response_a'])\n",
    "#     response_bs = clean_text(row['response_b'])\n",
    "#     response = clean_text(row['response'])\n",
    "    \n",
    "#     new_rows = []\n",
    "#     for prompt, response_a, response_b in zip(prompts, response_as, response_bs):\n",
    "#         new_row = row.copy()\n",
    "#         new_row['prompt'] = prompt\n",
    "#         new_row['response_a'] = response_a\n",
    "#         new_row['response_b'] = response_b\n",
    "#         new_rows.append(new_row)\n",
    "    \n",
    "#     return pd.DataFrame(new_rows)\n",
    "\n",
    "# # Apply the function to each row and concatenate the results\n",
    "# split_df = pd.concat([split_lists(row) for _, row in df.iterrows()], ignore_index=True)\n",
    "# split_df.to_csv('../data/small-train.csv', index=False)"
   ]
  },
  {
   "cell_type": "code",
   "execution_count": null,
   "metadata": {},
   "outputs": [],
   "source": []
  },
  {
   "cell_type": "code",
   "execution_count": null,
   "metadata": {},
   "outputs": [],
   "source": []
  }
 ],
 "metadata": {
  "kernelspec": {
   "display_name": "evabot",
   "language": "python",
   "name": "python3"
  },
  "language_info": {
   "codemirror_mode": {
    "name": "ipython",
    "version": 3
   },
   "file_extension": ".py",
   "mimetype": "text/x-python",
   "name": "python",
   "nbconvert_exporter": "python",
   "pygments_lexer": "ipython3",
   "version": "3.11.8"
  }
 },
 "nbformat": 4,
 "nbformat_minor": 2
}
