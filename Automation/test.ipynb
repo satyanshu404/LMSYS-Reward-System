{
 "cells": [
  {
   "cell_type": "code",
   "execution_count": null,
   "metadata": {},
   "outputs": [],
   "source": [
    "from selenium import webdriver\n",
    "from selenium.webdriver.common.by import By\n",
    "from selenium.webdriver.support.ui import WebDriverWait\n",
    "from selenium.webdriver.common.keys import Keys\n",
    "from selenium.webdriver.support.ui import Select\n",
    "from selenium.webdriver.support import expected_conditions as EC\n",
    "from selenium.webdriver.common.action_chains import ActionChains\n",
    "from selenium.common.exceptions import TimeoutException\n",
    "from selenium.common.exceptions import NoSuchElementException\n",
    "import undetected_chromedriver as uc\n",
    "from time import sleep\n",
    "from constant import *\n",
    "from bs4 import BeautifulSoup\n",
    "import pyperclip"
   ]
  },
  {
   "cell_type": "code",
   "execution_count": null,
   "metadata": {},
   "outputs": [],
   "source": [
    "# import undetected_chromedriver as uc\n",
    "# from selenium import webdriver\n",
    "\n",
    "# chrome_options = webdriver.ChromeOptions() \n",
    "# chrome_options.add_argument(\"--headless\")\n",
    "# chrome_options.add_argument('--ignore-certificate-errors')\n",
    "# chrome_options.add_argument('--allow-running-insecure-content')\n",
    "# chrome_options.add_argument(\"--window-size=1920,1080\")\n",
    "# \n",
    "\n",
    "\n",
    "\n",
    "\n",
    "\n",
    "\n",
    "\n",
    "# chrome_options.add_argument(f'user-agent={user_agent}')\n",
    "# driver = uc.Chrome(options=chrome_options)"
   ]
  },
  {
   "cell_type": "code",
   "execution_count": null,
   "metadata": {},
   "outputs": [],
   "source": [
    "# import undetected_chromedriver as uc\n",
    "# from selenium import webdriver\n",
    "# # from selenium.webdriver.chrome.options import Options\n",
    "# chrome_options = webdriver.ChromeOptions()\n",
    "# # # Set up Chrome options\n",
    "# # options = Options()\n",
    "# # options.add_argument(\"--window-size=1920,1080\")\n",
    "# # options.add_argument(\"--allow-insecure-localhost\")\n",
    "# # # options.add_argument(\"--headless\")\n",
    "# # options.add_argument(\"--disable-gpu\")\n",
    "# # options.add_argument(\"--no-sandbox\")\n",
    "\n",
    "# # # Set up the WebDriver with the options\n",
    "# # driver = webdriver.Chrome(options=options)\n",
    "# driver = uc.Chrome(options=chrome_options)\n",
    "\n",
    "# # # Maximize the window\n",
    "# # driver.maximize_window()\n",
    "\n",
    "# # # Set the window size to 640x360\n",
    "# # driver.set_window_size(1, 1)\n",
    "\n",
    "\n",
    "\n",
    "# # # driver = uc.Chrome()\n",
    "# # # driver.get(ScraperConstants.URL)\n",
    "# # # window_handles = driver.window_handles\n"
   ]
  },
  {
   "cell_type": "code",
   "execution_count": null,
   "metadata": {},
   "outputs": [],
   "source": [
    "from selenium import webdriver\n",
    "from selenium.webdriver.firefox.options import Options\n",
    "\n",
    "fireFoxOptions = Options()  \n",
    "# fireFoxOptions.add_argument(\"--headless\") \n",
    "fireFoxOptions.add_argument(\"--window-size=1920,1080\")\n",
    "fireFoxOptions.add_argument('--start-maximized')\n",
    "fireFoxOptions.add_argument('--disable-gpu')\n",
    "user_agent = 'Mozilla/5.0 (X11; Linux x86_64) AppleWebKit/537.36 (KHTML, like Gecko) Chrome/60.0.3112.50 Safari/537.36'\n",
    "fireFoxOptions.add_argument(f'user-agent={user_agent}')\n",
    "fireFoxOptions.add_argument('--no-sandbox')\n",
    "\n",
    "driver =  webdriver.Firefox(options=fireFoxOptions)"
   ]
  },
  {
   "cell_type": "code",
   "execution_count": null,
   "metadata": {},
   "outputs": [],
   "source": [
    "driver.get(ScraperConstants.URL)\n",
    "window_handles = driver.window_handles\n"
   ]
  },
  {
   "cell_type": "code",
   "execution_count": null,
   "metadata": {},
   "outputs": [],
   "source": [
    "def go_to(locator:tuple, driver=driver, duration:int=60):\n",
    "    element = WebDriverWait(driver, duration).until(\n",
    "        EC.element_to_be_clickable(locator)\n",
    "    )\n",
    "    driver.execute_script(\"arguments[0].scrollIntoView(true);\", element)\n",
    "    sleep(1)\n",
    "    return element "
   ]
  },
  {
   "cell_type": "code",
   "execution_count": null,
   "metadata": {},
   "outputs": [],
   "source": [
    "def accept_alert(driver=driver, duration=60):\n",
    "    try:\n",
    "        WebDriverWait(driver, duration).until(EC.alert_is_present())\n",
    "        alert = driver.switch_to.alert\n",
    "        alert.accept()\n",
    "    except Exception as e:\n",
    "        print(f\"No alert present: {e}\")\n",
    "\n",
    "accept_alert()"
   ]
  },
  {
   "cell_type": "code",
   "execution_count": null,
   "metadata": {},
   "outputs": [],
   "source": [
    "driver.get_screenshot_as_file(\"screenshot.png\")"
   ]
  },
  {
   "cell_type": "code",
   "execution_count": null,
   "metadata": {},
   "outputs": [],
   "source": [
    "# Wait for the page to load\n",
    "try:\n",
    "    WebDriverWait(driver, 30).until(\n",
    "        EC.presence_of_element_located((By.XPATH, '//*[contains(text(), \"Arena (battle)\")]'))\n",
    "    )\n",
    "except TimeoutException:\n",
    "    print(\"TimeoutException: Couldn't load the page\")\n",
    "    driver.quit()"
   ]
  },
  {
   "cell_type": "code",
   "execution_count": null,
   "metadata": {},
   "outputs": [],
   "source": [
    "sleep(2)"
   ]
  },
  {
   "cell_type": "code",
   "execution_count": null,
   "metadata": {},
   "outputs": [],
   "source": [
    "go_to((By.ID, \"component-99-button\")).click()\n",
    "# driver.execute_script(\"window.scrollBy(0, 500);\")"
   ]
  },
  {
   "cell_type": "code",
   "execution_count": null,
   "metadata": {},
   "outputs": [],
   "source": [
    "ele = go_to((By.ID, \"component-109\"))"
   ]
  },
  {
   "cell_type": "code",
   "execution_count": null,
   "metadata": {},
   "outputs": [],
   "source": [
    "# ele = go_to((By.CLASS_NAME, \"error\"), duration=5)\n",
    "\n",
    "# if ele:\n",
    "#     print(\"Error\")\n",
    "#     driver.refresh()\n",
    "\n",
    "def is_element_present(by, value):\n",
    "    try:\n",
    "        driver.find_element(by, value)\n",
    "        return True\n",
    "    except NoSuchElementException:\n",
    "        return False\n",
    "    \n",
    "if is_element_present(By.CLASS_NAME, \"error\"):\n",
    "    print(\"Error\")\n",
    "    driver.refresh()"
   ]
  },
  {
   "cell_type": "code",
   "execution_count": null,
   "metadata": {},
   "outputs": [],
   "source": [
    "listbox = go_to((By.ID, \"component-104\"))\n",
    "ActionChains(driver).move_to_element(listbox).click().send_keys(Keys.BACKSPACE*150).perform()\n",
    "ActionChains(driver).move_to_element(listbox).click().send_keys('nemotron-4-340b').perform()\n",
    "ActionChains(driver).move_to_element(listbox).click().send_keys(Keys.ENTER).perform()"
   ]
  },
  {
   "cell_type": "code",
   "execution_count": null,
   "metadata": {},
   "outputs": [],
   "source": [
    "message = '''\n",
    "Act like a discriminator assistant which have the capabilities to distinguish between two responses for the given query.\n",
    "You will be given one query and two responses  and the label to that query. You have to compare the two responses based on the given correct label and provide feedback like\n",
    "which response is more relevant, accurate, clear, comprehensive, concise, logically flowing, evidence-based, consistent, objective, and responsive to the nuances of the query and why.\n",
    "If the response A is best then you have to write A, if response B is best then you have to write B and if both are best then you have to write AB.\n",
    "The feedback should be detailed and provide clear reasoning for each aspect and in reason compare why one response is better and other in bad.\n",
    "However do not soley rely on the given label and also consider the responses in general.\n",
    "Output must be in the following JSON format:\n",
    "Output: {{\n",
    "    'relevance': {{\n",
    "        'response': '<A/B/AB> Which response is more relevant to the query?',\n",
    "        'reason': 'Provide a detailed explanation of why one response directly addresses the query better and provides more pertinent information.'\n",
    "    }},\n",
    "    'accuracy': {{\n",
    "        'response': '<A/B/AB> Which response is more accurate?',\n",
    "        'reason': 'Explain why one response contains more reliable information based on facts and credible sources.'\n",
    "    }},\n",
    "    'clarity': {{\n",
    "        'response': '<A/B/AB> Which response is clearer?',\n",
    "        'reason': 'Describe why one response is more straightforward, easy to understand, and free of ambiguity.'\n",
    "    }},\n",
    "    'completeness': {{\n",
    "        'response': '<A/B/AB> Which response is more comprehensive?',\n",
    "        'reason': 'Detail why one response covers all aspects of the query more thoroughly.'\n",
    "    }},\n",
    "    'conciseness': {{\n",
    "        'response': '<A/B/AB> Which response is more concise?',\n",
    "        'reason': 'Explain why one response is more succinct and to the point without unnecessary information.'\n",
    "    }},\n",
    "    'logical_flow': {{\n",
    "        'response': '<A/B/AB> Which response has a better logical flow?',\n",
    "        'reason': 'Discuss why one response presents information in a more organized and coherent manner.'\n",
    "    }},\n",
    "    'evidence_examples': {{\n",
    "        'response': '<A/B/AB> Which response provides stronger evidence and examples?',\n",
    "        'reason': 'Specify why one response includes stronger or more relevant evidence and examples to support its points.'\n",
    "    }},\n",
    "    'consistency': {{\n",
    "        'response': '<A/B/AB> Which response is more consistent?',\n",
    "        'reason': 'Clarify why one response maintains internal consistency without contradictions.'\n",
    "    }},\n",
    "    'objectivity': {{\n",
    "        'response': '<A/B/AB> Which response is more objective?',\n",
    "        'reason': 'Explain why one response is more unbiased and neutral in its presentation.'\n",
    "    }},\n",
    "    'responsiveness': {{\n",
    "        'response': '<A/B/AB> Which response is more responsive to the nuances and sub-questions within the query?',\n",
    "        'reason': 'Describe why one response better addresses specific details and aspects of the query, including any sub-questions.'\n",
    "    }}\n",
    "}}\n",
    "Task:\n",
    "Query: \"Is it morally right to try to have a certain percentage of females on managerial positions?\"\n",
    "Resonse A: that involves considerations of fairness, equality, diversity, and discrimination.\\n\\nHere are some arguments in favor of and against such policies:\\n\\n**Arguments in favor:**\\n\\n1. **Correcting Historical Inequities:** Women have historically been underrepresented in leadership roles due to various cultural, institutional, and social barriers. Aiming for a specific percentage can be seen as a corrective measure to address past and ongoing discrimination.\\n\\n2. **Promoting Diversity:** Diverse leadership teams can enhance decision-making and represent a broader range of perspectives. This can lead to better outcomes for organizations and society as a whole.\\n\\n3. **Equality of Opportunity:** Setting targets for female representation in management can help ensure that women have equal opportunities to advance in their careers.\\n\\n4. **Role Modeling:** Increased visibility of female leaders can inspire and encourage other women and girls to pursue leadership roles.\\n\\n**Arguments against:**\\n\\n1. **Reverse Discrimination:** Setting a quota for female representation might lead to the perception or reality of reverse discrimination, where men might be overlooked for positions despite being qualified, simply to meet the gender target.\\n\\n2. **Meritocracy Concerns:** Critics argue that employment and promotion should be based solely on merit and qualifications, not gender. They fear that quotas could compromise the quality of leadership if less qualified individuals are promoted to meet gender targets.\\n\\n3. **Tokenism:** There is a risk that women appointed to meet quotas might be seen as \\only on gender might overlook other important aspects of diversity, such as race, ethnicity, socioeconomic background, or sexual orientation.\\n\\nUltimately, the morality of aiming for a certain percentage of females in managerial positions depends on one's ethical framework and the context in which such policies are implemented. Proponents of gender diversity targets often argue that these measures are necessary as a transitional mechanism to create a level playing field, while opponents may argue for a \\ to implement policies that promote fairness and equality while minimizing negative consequences. It is also important to address the root causes of gender inequality, such as unconscious bias, work-life balance challenges, and lack of supportive policies, to create an environment where everyone has the opportunity to succeed based on their capabilities and contributions.\n",
    "Response B: As an AI, I don't have personal beliefs or opinions. However, I can tell you that the question of gender quotas in managerial positions is a complex one and positions can vary. Advocates argue that such measures can help correct historical imbalances, promote diversity, and may lead to better decision-making. Critics may argue that positions should be based purely on merit, and that quotas could potentially lead to tokenism or unqualified candidates being promoted. Morality can be subjective and differs from person to person based on their personal beliefs, cultural background, and values. It's a topic with valid arguments on both sides, and it's up to each individual or organization to decide what they believe is right.\n",
    "Output:\n",
    "'''"
   ]
  },
  {
   "cell_type": "code",
   "execution_count": null,
   "metadata": {},
   "outputs": [],
   "source": [
    "# message = message.replace(\"\\n\", \"\\\\n\")"
   ]
  },
  {
   "cell_type": "code",
   "execution_count": null,
   "metadata": {},
   "outputs": [],
   "source": [
    "pyperclip.copy(message)"
   ]
  },
  {
   "cell_type": "code",
   "execution_count": null,
   "metadata": {},
   "outputs": [],
   "source": [
    "print(message)"
   ]
  },
  {
   "cell_type": "code",
   "execution_count": null,
   "metadata": {},
   "outputs": [],
   "source": [
    "textarea = go_to((By.ID, \"component-109\"))\n",
    "actions = ActionChains(driver).move_to_element(textarea).click()\n",
    "# .send_keys(message).perform()\n",
    "actions.key_down(Keys.CONTROL).send_keys('v').key_up(Keys.CONTROL).perform()"
   ]
  },
  {
   "cell_type": "code",
   "execution_count": null,
   "metadata": {},
   "outputs": [],
   "source": [
    "driver.execute_script(\"arguments[0].dispatchEvent(new Event('input'));\", textarea)"
   ]
  },
  {
   "cell_type": "code",
   "execution_count": null,
   "metadata": {},
   "outputs": [],
   "source": [
    "ActionChains(driver).move_to_element(textarea).click().send_keys(Keys.ENTER).perform()"
   ]
  },
  {
   "cell_type": "code",
   "execution_count": null,
   "metadata": {},
   "outputs": [],
   "source": [
    "# go_to((By.ID, \"component-110\")).click()\n",
    "# import pyperclip\n",
    "# pyperclip.copy('The text to be copied to the clipboard.')\n",
    "# spam = pyperclip.paste()"
   ]
  },
  {
   "cell_type": "code",
   "execution_count": null,
   "metadata": {},
   "outputs": [],
   "source": [
    "# simulate_user_activity()\n",
    "sleep(2)"
   ]
  },
  {
   "cell_type": "code",
   "execution_count": null,
   "metadata": {},
   "outputs": [],
   "source": [
    "WebDriverWait(driver, 10000).until(EC.element_to_be_clickable((By.ID, 'component-118')))\n",
    "sleep(2)"
   ]
  },
  {
   "cell_type": "code",
   "execution_count": null,
   "metadata": {},
   "outputs": [],
   "source": [
    "page_source = driver.page_source\n",
    "\n",
    "# Parse the page source with BeautifulSoup\n",
    "soup = BeautifulSoup(page_source, 'html.parser')"
   ]
  },
  {
   "cell_type": "code",
   "execution_count": null,
   "metadata": {},
   "outputs": [],
   "source": [
    "text = soup.text.split(\"Scroll down and start chatting\")[-1]"
   ]
  },
  {
   "cell_type": "code",
   "execution_count": null,
   "metadata": {},
   "outputs": [],
   "source": [
    "text = text.split(\"Textbox\")[0]"
   ]
  },
  {
   "cell_type": "code",
   "execution_count": null,
   "metadata": {},
   "outputs": [],
   "source": [
    "\n",
    "print(text.split(\"Output:\")[-1].replace(\"\\\\n\", \" \").strip())"
   ]
  },
  {
   "cell_type": "code",
   "execution_count": null,
   "metadata": {},
   "outputs": [],
   "source": [
    "dict_ = eval(text.split(\"Output:\")[-1].replace(\"\\\\n\", \" \").strip())"
   ]
  },
  {
   "cell_type": "code",
   "execution_count": null,
   "metadata": {},
   "outputs": [],
   "source": [
    "dict_"
   ]
  },
  {
   "cell_type": "code",
   "execution_count": null,
   "metadata": {},
   "outputs": [],
   "source": []
  },
  {
   "cell_type": "code",
   "execution_count": null,
   "metadata": {},
   "outputs": [],
   "source": []
  },
  {
   "cell_type": "code",
   "execution_count": null,
   "metadata": {},
   "outputs": [],
   "source": [
    "# {'relevance': {'response': 'A',\n",
    "#   'reason': 'Response A is more relevant to the query as it provides a detailed exploration of the moral implications of having a certain percentage of females in managerial positions. It discusses various arguments for and against this practice, offering a comprehensive and nuanced perspective. In contrast, Response B offers a brief and general overview of the topic without delving into the specific moral considerations requested in the query.'},\n",
    "#  'accuracy': {'response': 'A',\n",
    "#   'reason': 'Response A is more accurate as it presents a balanced view of the topic, discussing both the advantages and disadvantages of gender quotas in managerial positions. It also acknowledges the subjective nature of morality. Response B, while not inaccurate, is less detailed and does not provide as much factual information or context as Response A.'},\n",
    "#  'clarity': {'response': 'B',\n",
    "#   'reason': \"Response B is clearer as it presents its points in a more straightforward and concise manner. Response A, while comprehensive, may be overwhelming for some readers due to its length and depth. Response B's simplicity makes it easier to understand, especially for those unfamiliar with the topic.\"},\n",
    "#  'completeness': {'response': 'A',\n",
    "#   'reason': 'Response A is more comprehensive as it thoroughly explores the moral implications of gender quotas in managerial positions. It discusses various arguments for and against this practice, offering a well-rounded perspective. Response B, while clear and accurate, does not provide as much detail or context as Response A.'},\n",
    "#  'conciseness': {'response': 'B',\n",
    "#   'reason': 'Response B is more concise as it presents its points in a brief and to-the-point manner. Response A, while comprehensive, is significantly longer and may contain more information than necessary for some readers.'},\n",
    "#  'logical_flow': {'response': 'A',\n",
    "#   'reason': 'Response A has a better logical flow as it presents its arguments in a structured and organized manner. It introduces the topic, discusses arguments for and against gender quotas, and concludes by acknowledging the subjective nature of morality. Response B, while clear, does not have as clear a structure or flow as Response A.'},\n",
    "#  'evidence_examples': {'response': 'A',\n",
    "#   'reason': 'Response A provides stronger evidence and examples as it discusses specific arguments for and against gender quotas in managerial positions. It offers detailed explanations and examples to support its points. Response B, while accurate, does not provide as much evidence or examples as Response A.'},\n",
    "#  'consistency': {'response': 'A',\n",
    "#   'reason': 'Both responses are consistent, but Response A is more consistent in its depth and detail throughout the response. Response B, while consistent, is less detailed and comprehensive than Response A.'},\n",
    "#  'objectivity': {'response': 'A',\n",
    "#   'reason': 'Both responses are objective, but Response A is more objective as it presents a balanced view of the topic, discussing both the advantages and disadvantages of gender quotas in managerial positions. Response B, while objective, is less detailed and comprehensive than Response A.'},\n",
    "#  'responsiveness': {'response': 'A',\n",
    "#   'reason': 'Response A is more responsive to the nuances and sub-questions within the query as it addresses the specific moral considerations of gender quotas in managerial positions. It also acknowledges the subjective nature of morality. Response B, while responsive, does not address the nuances of the query as thoroughly as Response A.'}}"
   ]
  },
  {
   "cell_type": "code",
   "execution_count": null,
   "metadata": {},
   "outputs": [],
   "source": [
    "# import threading\n",
    "# import time\n",
    "\n",
    "# def target_function():\n",
    "#     try:\n",
    "#         # Place your script code here\n",
    "#         print(\"Script started\")\n",
    "#         time.sleep(10)  # Simulate a long-running process\n",
    "#         print(\"Script finished\")\n",
    "#         return \n",
    "#     except Exception as e:\n",
    "#         print(f\"An error occurred: {e}\")\n",
    "\n",
    "# def run_with_timeout(func, timeout):\n",
    "#     thread = threading.Thread(target=func)\n",
    "#     thread.start()\n",
    "#     thread.join(timeout)\n",
    "#     if thread.is_alive():\n",
    "#         print(\"Script exceeded the time limit and will be terminated\")\n",
    "#         return False\n",
    "#     return True\n",
    "\n",
    "# # Set the timeout duration (in seconds)\n",
    "# timeout_duration = 5\n",
    "\n",
    "# # Run the script with the specified timeout\n",
    "# if run_with_timeout(target_function, timeout_duration):\n",
    "#     print(\"Script completed within the time limit\")\n",
    "# else:\n",
    "#     print(\"Script did not complete within the time limit\")\n"
   ]
  },
  {
   "cell_type": "code",
   "execution_count": null,
   "metadata": {},
   "outputs": [],
   "source": [
    "# from selenium import webdriver\n",
    "# import threading\n",
    "# import time\n",
    "\n",
    "# # Function to close the driver after a certain time\n",
    "# def close_driver(driver, timeout):\n",
    "#     time.sleep(timeout)\n",
    "#     if driver:\n",
    "#         driver.quit()\n",
    "#         print(\"Driver closed after timeout.\")\n",
    "\n",
    "# # Your main Selenium script\n",
    "# def main():\n",
    "#     # Initialize the WebDriver (e.g., Chrome)\n",
    "#     driver = webdriver.Chrome()\n",
    "\n",
    "#     # Set the timeout in seconds\n",
    "#     timeout = 5  # e.g., 60 seconds\n",
    "\n",
    "#     # Start the timer to close the driver\n",
    "#     timer = threading.Thread(target=close_driver, args=(driver, timeout))\n",
    "#     timer.start()\n",
    "\n",
    "#     try:\n",
    "#         # Your Selenium tasks go here\n",
    "#         driver.get('http://www.google.com')\n",
    "#         # Add more Selenium actions as needed\n",
    "#         print(\"Tasks completed successfully.\")\n",
    "#         for i in range(10):\n",
    "#             print(i)\n",
    "#             time.sleep(1)\n",
    "\n",
    "#     except Exception as e:\n",
    "#         print(f\"An error occurred: {e}\")\n",
    "\n",
    "#     finally:\n",
    "#         # Ensure the driver is closed if the tasks finish before the timeout\n",
    "#         if driver:\n",
    "#             driver.quit()\n",
    "#             print(\"Driver closed after completing tasks.\")\n",
    "#         # Cancel the timer if the tasks complete in time\n",
    "#         timer.join(timeout=0)\n",
    "\n",
    "# main()"
   ]
  },
  {
   "cell_type": "code",
   "execution_count": null,
   "metadata": {},
   "outputs": [],
   "source": [
    "# import threading\n",
    "# import logging\n",
    "# from time import sleep\n",
    "# from selenium import webdriver\n",
    "# from selenium.webdriver.common.by import By\n",
    "\n",
    "# class Scraper:\n",
    "#     def __init__(self, driver_path):\n",
    "#         self.driver_path = driver_path\n",
    "#         self.driver = None\n",
    "\n",
    "#     def initialize(self):\n",
    "#         self.driver = webdriver.Chrome(executable_path=self.driver_path)\n",
    "\n",
    "#     def cleanup(self):\n",
    "#         if self.driver:\n",
    "#             self.driver.quit()\n",
    "\n",
    "#     def check_page(self):\n",
    "#         # Dummy implementation\n",
    "#         return True\n",
    "\n",
    "#     def go_to_arena(self):\n",
    "#         # Dummy implementation\n",
    "#         pass\n",
    "\n",
    "#     def is_element_present(self, locator):\n",
    "#         # Dummy implementation\n",
    "#         return False\n",
    "\n",
    "#     def select_model(self):\n",
    "#         # Dummy implementation\n",
    "#         pass\n",
    "\n",
    "#     def genreate_response(self, message):\n",
    "#         # Dummy implementation\n",
    "#         pass\n",
    "\n",
    "#     def scrape_data(self, splitter_text):\n",
    "#         # Dummy implementation\n",
    "#         return [\"data1\", \"data2\"]\n",
    "\n",
    "#     def run(self, message: str, splitter_text: str | None = None, result_container: dict = None):\n",
    "#         '''Scrape the data from the website'''\n",
    "\n",
    "#         self.initialize()\n",
    "\n",
    "#         # check if the page is loaded successfully\n",
    "#         if not self.check_page():\n",
    "#             self.cleanup()\n",
    "#             result_container['result'] = None\n",
    "#             return\n",
    "\n",
    "#         self.go_to_arena()\n",
    "#         sleep(1)\n",
    "\n",
    "#         # check for timeout error\n",
    "#         if self.is_element_present((By.CLASS_NAME, \"error\")):\n",
    "#             logging.error(\"Timeout Error Occured. Retrying...\")\n",
    "#             self.cleanup()\n",
    "#             result_container['result'] = None\n",
    "#             return\n",
    "\n",
    "#         self.select_model()\n",
    "#         sleep(1)\n",
    "\n",
    "#         self.genreate_response(message)\n",
    "#         sleep(1)\n",
    "\n",
    "#         data = self.scrape_data(splitter_text)\n",
    "#         self.cleanup()\n",
    "#         result_container['result'] = data\n",
    "\n",
    "# def run_with_timeout(duration, scraper, message, splitter_text=None):\n",
    "#     result_container = {}\n",
    "#     thread = threading.Thread(target=scraper.run, args=(message, splitter_text, result_container))\n",
    "#     thread.start()\n",
    "#     thread.join(duration)\n",
    "\n",
    "#     if thread.is_alive():\n",
    "#         print(\"Script exceeded the duration. Terminating...\")\n",
    "#         return None\n",
    "#     else:\n",
    "#         return result_container.get('result', None)\n",
    "\n",
    "# # Example usage\n",
    "# driver_path = 'path/to/chromedriver'\n",
    "# scraper = Scraper(driver_path)\n",
    "# timeout_duration = 5  # seconds\n",
    "# message = \"example message\"\n",
    "# splitter_text = None  # or some other value if needed\n",
    "\n",
    "# result = run_with_timeout(timeout_duration, scraper, message, splitter_text)\n",
    "# print(result)\n"
   ]
  },
  {
   "cell_type": "code",
   "execution_count": null,
   "metadata": {},
   "outputs": [],
   "source": []
  }
 ],
 "metadata": {
  "kernelspec": {
   "display_name": "evabot",
   "language": "python",
   "name": "python3"
  },
  "language_info": {
   "codemirror_mode": {
    "name": "ipython",
    "version": 3
   },
   "file_extension": ".py",
   "mimetype": "text/x-python",
   "name": "python",
   "nbconvert_exporter": "python",
   "pygments_lexer": "ipython3",
   "version": "3.11.8"
  }
 },
 "nbformat": 4,
 "nbformat_minor": 2
}
